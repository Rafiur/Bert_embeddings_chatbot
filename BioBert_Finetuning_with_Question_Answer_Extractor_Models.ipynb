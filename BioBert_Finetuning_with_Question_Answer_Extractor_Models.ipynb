{
  "nbformat": 4,
  "nbformat_minor": 0,
  "metadata": {
    "accelerator": "GPU",
    "colab": {
      "name": "Part1_BioBert_Finetuning_with_Question_Answer_Extractor_Models.ipynb",
      "provenance": [],
      "collapsed_sections": [],
      "toc_visible": true,
      "machine_shape": "hm",
      "include_colab_link": true
    },
    "kernelspec": {
      "display_name": "Python 3",
      "language": "python",
      "name": "python3"
    },
    "language_info": {
      "codemirror_mode": {
        "name": "ipython",
        "version": 3
      },
      "file_extension": ".py",
      "mimetype": "text/x-python",
      "name": "python",
      "nbconvert_exporter": "python",
      "pygments_lexer": "ipython3",
      "version": "3.6.9"
    },
    "widgets": {
      "application/vnd.jupyter.widget-state+json": {
        "ff983a33c9e74e7089e187420580ba66": {
          "model_module": "@jupyter-widgets/controls",
          "model_name": "HBoxModel",
          "model_module_version": "1.5.0",
          "state": {
            "_view_name": "HBoxView",
            "_dom_classes": [],
            "_model_name": "HBoxModel",
            "_view_module": "@jupyter-widgets/controls",
            "_model_module_version": "1.5.0",
            "_view_count": null,
            "_view_module_version": "1.5.0",
            "box_style": "",
            "layout": "IPY_MODEL_cf7f4a350f8945b899ebdba021e69424",
            "_model_module": "@jupyter-widgets/controls",
            "children": [
              "IPY_MODEL_0bf73bcba7294d84bfed14d0de2bf2e0",
              "IPY_MODEL_6673bf4ddfa649a1afd00b6fce2687a1"
            ]
          }
        },
        "cf7f4a350f8945b899ebdba021e69424": {
          "model_module": "@jupyter-widgets/base",
          "model_name": "LayoutModel",
          "model_module_version": "1.2.0",
          "state": {
            "_view_name": "LayoutView",
            "grid_template_rows": null,
            "right": null,
            "justify_content": null,
            "_view_module": "@jupyter-widgets/base",
            "overflow": null,
            "_model_module_version": "1.2.0",
            "_view_count": null,
            "flex_flow": null,
            "width": null,
            "min_width": null,
            "border": null,
            "align_items": null,
            "bottom": null,
            "_model_module": "@jupyter-widgets/base",
            "top": null,
            "grid_column": null,
            "overflow_y": null,
            "overflow_x": null,
            "grid_auto_flow": null,
            "grid_area": null,
            "grid_template_columns": null,
            "flex": null,
            "_model_name": "LayoutModel",
            "justify_items": null,
            "grid_row": null,
            "max_height": null,
            "align_content": null,
            "visibility": null,
            "align_self": null,
            "height": null,
            "min_height": null,
            "padding": null,
            "grid_auto_rows": null,
            "grid_gap": null,
            "max_width": null,
            "order": null,
            "_view_module_version": "1.2.0",
            "grid_template_areas": null,
            "object_position": null,
            "object_fit": null,
            "grid_auto_columns": null,
            "margin": null,
            "display": null,
            "left": null
          }
        },
        "0bf73bcba7294d84bfed14d0de2bf2e0": {
          "model_module": "@jupyter-widgets/controls",
          "model_name": "FloatProgressModel",
          "model_module_version": "1.5.0",
          "state": {
            "_view_name": "ProgressView",
            "style": "IPY_MODEL_aee38055c8124487b2c8bb8cd80bed02",
            "_dom_classes": [],
            "description": "Downloading: 100%",
            "_model_name": "FloatProgressModel",
            "bar_style": "success",
            "max": 462,
            "_view_module": "@jupyter-widgets/controls",
            "_model_module_version": "1.5.0",
            "value": 462,
            "_view_count": null,
            "_view_module_version": "1.5.0",
            "orientation": "horizontal",
            "min": 0,
            "description_tooltip": null,
            "_model_module": "@jupyter-widgets/controls",
            "layout": "IPY_MODEL_17c565de618d4abca930156375682bb7"
          }
        },
        "6673bf4ddfa649a1afd00b6fce2687a1": {
          "model_module": "@jupyter-widgets/controls",
          "model_name": "HTMLModel",
          "model_module_version": "1.5.0",
          "state": {
            "_view_name": "HTMLView",
            "style": "IPY_MODEL_c603e07f57c4413789faee2e31c0c83a",
            "_dom_classes": [],
            "description": "",
            "_model_name": "HTMLModel",
            "placeholder": "​",
            "_view_module": "@jupyter-widgets/controls",
            "_model_module_version": "1.5.0",
            "value": " 462/462 [00:01&lt;00:00, 314B/s]",
            "_view_count": null,
            "_view_module_version": "1.5.0",
            "description_tooltip": null,
            "_model_module": "@jupyter-widgets/controls",
            "layout": "IPY_MODEL_3242a23ccb4b4a79a5d73d16a7977c0f"
          }
        },
        "aee38055c8124487b2c8bb8cd80bed02": {
          "model_module": "@jupyter-widgets/controls",
          "model_name": "ProgressStyleModel",
          "model_module_version": "1.5.0",
          "state": {
            "_view_name": "StyleView",
            "_model_name": "ProgressStyleModel",
            "description_width": "initial",
            "_view_module": "@jupyter-widgets/base",
            "_model_module_version": "1.5.0",
            "_view_count": null,
            "_view_module_version": "1.2.0",
            "bar_color": null,
            "_model_module": "@jupyter-widgets/controls"
          }
        },
        "17c565de618d4abca930156375682bb7": {
          "model_module": "@jupyter-widgets/base",
          "model_name": "LayoutModel",
          "model_module_version": "1.2.0",
          "state": {
            "_view_name": "LayoutView",
            "grid_template_rows": null,
            "right": null,
            "justify_content": null,
            "_view_module": "@jupyter-widgets/base",
            "overflow": null,
            "_model_module_version": "1.2.0",
            "_view_count": null,
            "flex_flow": null,
            "width": null,
            "min_width": null,
            "border": null,
            "align_items": null,
            "bottom": null,
            "_model_module": "@jupyter-widgets/base",
            "top": null,
            "grid_column": null,
            "overflow_y": null,
            "overflow_x": null,
            "grid_auto_flow": null,
            "grid_area": null,
            "grid_template_columns": null,
            "flex": null,
            "_model_name": "LayoutModel",
            "justify_items": null,
            "grid_row": null,
            "max_height": null,
            "align_content": null,
            "visibility": null,
            "align_self": null,
            "height": null,
            "min_height": null,
            "padding": null,
            "grid_auto_rows": null,
            "grid_gap": null,
            "max_width": null,
            "order": null,
            "_view_module_version": "1.2.0",
            "grid_template_areas": null,
            "object_position": null,
            "object_fit": null,
            "grid_auto_columns": null,
            "margin": null,
            "display": null,
            "left": null
          }
        },
        "c603e07f57c4413789faee2e31c0c83a": {
          "model_module": "@jupyter-widgets/controls",
          "model_name": "DescriptionStyleModel",
          "model_module_version": "1.5.0",
          "state": {
            "_view_name": "StyleView",
            "_model_name": "DescriptionStyleModel",
            "description_width": "",
            "_view_module": "@jupyter-widgets/base",
            "_model_module_version": "1.5.0",
            "_view_count": null,
            "_view_module_version": "1.2.0",
            "_model_module": "@jupyter-widgets/controls"
          }
        },
        "3242a23ccb4b4a79a5d73d16a7977c0f": {
          "model_module": "@jupyter-widgets/base",
          "model_name": "LayoutModel",
          "model_module_version": "1.2.0",
          "state": {
            "_view_name": "LayoutView",
            "grid_template_rows": null,
            "right": null,
            "justify_content": null,
            "_view_module": "@jupyter-widgets/base",
            "overflow": null,
            "_model_module_version": "1.2.0",
            "_view_count": null,
            "flex_flow": null,
            "width": null,
            "min_width": null,
            "border": null,
            "align_items": null,
            "bottom": null,
            "_model_module": "@jupyter-widgets/base",
            "top": null,
            "grid_column": null,
            "overflow_y": null,
            "overflow_x": null,
            "grid_auto_flow": null,
            "grid_area": null,
            "grid_template_columns": null,
            "flex": null,
            "_model_name": "LayoutModel",
            "justify_items": null,
            "grid_row": null,
            "max_height": null,
            "align_content": null,
            "visibility": null,
            "align_self": null,
            "height": null,
            "min_height": null,
            "padding": null,
            "grid_auto_rows": null,
            "grid_gap": null,
            "max_width": null,
            "order": null,
            "_view_module_version": "1.2.0",
            "grid_template_areas": null,
            "object_position": null,
            "object_fit": null,
            "grid_auto_columns": null,
            "margin": null,
            "display": null,
            "left": null
          }
        },
        "c8d6433726de4f54ada8013affc25ca8": {
          "model_module": "@jupyter-widgets/controls",
          "model_name": "HBoxModel",
          "model_module_version": "1.5.0",
          "state": {
            "_view_name": "HBoxView",
            "_dom_classes": [],
            "_model_name": "HBoxModel",
            "_view_module": "@jupyter-widgets/controls",
            "_model_module_version": "1.5.0",
            "_view_count": null,
            "_view_module_version": "1.5.0",
            "box_style": "",
            "layout": "IPY_MODEL_933c3cef4a3e41be859b503a2feb2c28",
            "_model_module": "@jupyter-widgets/controls",
            "children": [
              "IPY_MODEL_17a259693e484ae997562821875c239d",
              "IPY_MODEL_946131aff1ff4aa9a7a0d05d30854e8f"
            ]
          }
        },
        "933c3cef4a3e41be859b503a2feb2c28": {
          "model_module": "@jupyter-widgets/base",
          "model_name": "LayoutModel",
          "model_module_version": "1.2.0",
          "state": {
            "_view_name": "LayoutView",
            "grid_template_rows": null,
            "right": null,
            "justify_content": null,
            "_view_module": "@jupyter-widgets/base",
            "overflow": null,
            "_model_module_version": "1.2.0",
            "_view_count": null,
            "flex_flow": null,
            "width": null,
            "min_width": null,
            "border": null,
            "align_items": null,
            "bottom": null,
            "_model_module": "@jupyter-widgets/base",
            "top": null,
            "grid_column": null,
            "overflow_y": null,
            "overflow_x": null,
            "grid_auto_flow": null,
            "grid_area": null,
            "grid_template_columns": null,
            "flex": null,
            "_model_name": "LayoutModel",
            "justify_items": null,
            "grid_row": null,
            "max_height": null,
            "align_content": null,
            "visibility": null,
            "align_self": null,
            "height": null,
            "min_height": null,
            "padding": null,
            "grid_auto_rows": null,
            "grid_gap": null,
            "max_width": null,
            "order": null,
            "_view_module_version": "1.2.0",
            "grid_template_areas": null,
            "object_position": null,
            "object_fit": null,
            "grid_auto_columns": null,
            "margin": null,
            "display": null,
            "left": null
          }
        },
        "17a259693e484ae997562821875c239d": {
          "model_module": "@jupyter-widgets/controls",
          "model_name": "FloatProgressModel",
          "model_module_version": "1.5.0",
          "state": {
            "_view_name": "ProgressView",
            "style": "IPY_MODEL_d36a2d68d4774e6eab6af83eaecb300a",
            "_dom_classes": [],
            "description": "Downloading: 100%",
            "_model_name": "FloatProgressModel",
            "bar_style": "success",
            "max": 213450,
            "_view_module": "@jupyter-widgets/controls",
            "_model_module_version": "1.5.0",
            "value": 213450,
            "_view_count": null,
            "_view_module_version": "1.5.0",
            "orientation": "horizontal",
            "min": 0,
            "description_tooltip": null,
            "_model_module": "@jupyter-widgets/controls",
            "layout": "IPY_MODEL_34e3dc81eebc48399b4f4fa6b7cfc3c0"
          }
        },
        "946131aff1ff4aa9a7a0d05d30854e8f": {
          "model_module": "@jupyter-widgets/controls",
          "model_name": "HTMLModel",
          "model_module_version": "1.5.0",
          "state": {
            "_view_name": "HTMLView",
            "style": "IPY_MODEL_1b30ce5373b64980a70f9f986cde2059",
            "_dom_classes": [],
            "description": "",
            "_model_name": "HTMLModel",
            "placeholder": "​",
            "_view_module": "@jupyter-widgets/controls",
            "_model_module_version": "1.5.0",
            "value": " 213k/213k [00:04&lt;00:00, 44.7kB/s]",
            "_view_count": null,
            "_view_module_version": "1.5.0",
            "description_tooltip": null,
            "_model_module": "@jupyter-widgets/controls",
            "layout": "IPY_MODEL_14f3a72755a446de9c71730274b38c74"
          }
        },
        "d36a2d68d4774e6eab6af83eaecb300a": {
          "model_module": "@jupyter-widgets/controls",
          "model_name": "ProgressStyleModel",
          "model_module_version": "1.5.0",
          "state": {
            "_view_name": "StyleView",
            "_model_name": "ProgressStyleModel",
            "description_width": "initial",
            "_view_module": "@jupyter-widgets/base",
            "_model_module_version": "1.5.0",
            "_view_count": null,
            "_view_module_version": "1.2.0",
            "bar_color": null,
            "_model_module": "@jupyter-widgets/controls"
          }
        },
        "34e3dc81eebc48399b4f4fa6b7cfc3c0": {
          "model_module": "@jupyter-widgets/base",
          "model_name": "LayoutModel",
          "model_module_version": "1.2.0",
          "state": {
            "_view_name": "LayoutView",
            "grid_template_rows": null,
            "right": null,
            "justify_content": null,
            "_view_module": "@jupyter-widgets/base",
            "overflow": null,
            "_model_module_version": "1.2.0",
            "_view_count": null,
            "flex_flow": null,
            "width": null,
            "min_width": null,
            "border": null,
            "align_items": null,
            "bottom": null,
            "_model_module": "@jupyter-widgets/base",
            "top": null,
            "grid_column": null,
            "overflow_y": null,
            "overflow_x": null,
            "grid_auto_flow": null,
            "grid_area": null,
            "grid_template_columns": null,
            "flex": null,
            "_model_name": "LayoutModel",
            "justify_items": null,
            "grid_row": null,
            "max_height": null,
            "align_content": null,
            "visibility": null,
            "align_self": null,
            "height": null,
            "min_height": null,
            "padding": null,
            "grid_auto_rows": null,
            "grid_gap": null,
            "max_width": null,
            "order": null,
            "_view_module_version": "1.2.0",
            "grid_template_areas": null,
            "object_position": null,
            "object_fit": null,
            "grid_auto_columns": null,
            "margin": null,
            "display": null,
            "left": null
          }
        },
        "1b30ce5373b64980a70f9f986cde2059": {
          "model_module": "@jupyter-widgets/controls",
          "model_name": "DescriptionStyleModel",
          "model_module_version": "1.5.0",
          "state": {
            "_view_name": "StyleView",
            "_model_name": "DescriptionStyleModel",
            "description_width": "",
            "_view_module": "@jupyter-widgets/base",
            "_model_module_version": "1.5.0",
            "_view_count": null,
            "_view_module_version": "1.2.0",
            "_model_module": "@jupyter-widgets/controls"
          }
        },
        "14f3a72755a446de9c71730274b38c74": {
          "model_module": "@jupyter-widgets/base",
          "model_name": "LayoutModel",
          "model_module_version": "1.2.0",
          "state": {
            "_view_name": "LayoutView",
            "grid_template_rows": null,
            "right": null,
            "justify_content": null,
            "_view_module": "@jupyter-widgets/base",
            "overflow": null,
            "_model_module_version": "1.2.0",
            "_view_count": null,
            "flex_flow": null,
            "width": null,
            "min_width": null,
            "border": null,
            "align_items": null,
            "bottom": null,
            "_model_module": "@jupyter-widgets/base",
            "top": null,
            "grid_column": null,
            "overflow_y": null,
            "overflow_x": null,
            "grid_auto_flow": null,
            "grid_area": null,
            "grid_template_columns": null,
            "flex": null,
            "_model_name": "LayoutModel",
            "justify_items": null,
            "grid_row": null,
            "max_height": null,
            "align_content": null,
            "visibility": null,
            "align_self": null,
            "height": null,
            "min_height": null,
            "padding": null,
            "grid_auto_rows": null,
            "grid_gap": null,
            "max_width": null,
            "order": null,
            "_view_module_version": "1.2.0",
            "grid_template_areas": null,
            "object_position": null,
            "object_fit": null,
            "grid_auto_columns": null,
            "margin": null,
            "display": null,
            "left": null
          }
        },
        "dda5419f4aa646a0ab4b2084fe122756": {
          "model_module": "@jupyter-widgets/controls",
          "model_name": "HBoxModel",
          "model_module_version": "1.5.0",
          "state": {
            "_view_name": "HBoxView",
            "_dom_classes": [],
            "_model_name": "HBoxModel",
            "_view_module": "@jupyter-widgets/controls",
            "_model_module_version": "1.5.0",
            "_view_count": null,
            "_view_module_version": "1.5.0",
            "box_style": "",
            "layout": "IPY_MODEL_534381cc1ec8410bb0e5ffd4e04f38b4",
            "_model_module": "@jupyter-widgets/controls",
            "children": [
              "IPY_MODEL_ad96245a225a4a149e4230437e3242d2",
              "IPY_MODEL_d221dc6edb144ec482aa4e79fd0738c1"
            ]
          }
        },
        "534381cc1ec8410bb0e5ffd4e04f38b4": {
          "model_module": "@jupyter-widgets/base",
          "model_name": "LayoutModel",
          "model_module_version": "1.2.0",
          "state": {
            "_view_name": "LayoutView",
            "grid_template_rows": null,
            "right": null,
            "justify_content": null,
            "_view_module": "@jupyter-widgets/base",
            "overflow": null,
            "_model_module_version": "1.2.0",
            "_view_count": null,
            "flex_flow": null,
            "width": null,
            "min_width": null,
            "border": null,
            "align_items": null,
            "bottom": null,
            "_model_module": "@jupyter-widgets/base",
            "top": null,
            "grid_column": null,
            "overflow_y": null,
            "overflow_x": null,
            "grid_auto_flow": null,
            "grid_area": null,
            "grid_template_columns": null,
            "flex": null,
            "_model_name": "LayoutModel",
            "justify_items": null,
            "grid_row": null,
            "max_height": null,
            "align_content": null,
            "visibility": null,
            "align_self": null,
            "height": null,
            "min_height": null,
            "padding": null,
            "grid_auto_rows": null,
            "grid_gap": null,
            "max_width": null,
            "order": null,
            "_view_module_version": "1.2.0",
            "grid_template_areas": null,
            "object_position": null,
            "object_fit": null,
            "grid_auto_columns": null,
            "margin": null,
            "display": null,
            "left": null
          }
        },
        "ad96245a225a4a149e4230437e3242d2": {
          "model_module": "@jupyter-widgets/controls",
          "model_name": "FloatProgressModel",
          "model_module_version": "1.5.0",
          "state": {
            "_view_name": "ProgressView",
            "style": "IPY_MODEL_eec2d787cd5845ceac2940d8983320f6",
            "_dom_classes": [],
            "description": "Downloading: 100%",
            "_model_name": "FloatProgressModel",
            "bar_style": "success",
            "max": 112,
            "_view_module": "@jupyter-widgets/controls",
            "_model_module_version": "1.5.0",
            "value": 112,
            "_view_count": null,
            "_view_module_version": "1.5.0",
            "orientation": "horizontal",
            "min": 0,
            "description_tooltip": null,
            "_model_module": "@jupyter-widgets/controls",
            "layout": "IPY_MODEL_e09ad032afd440c8bc95992ed75020ca"
          }
        },
        "d221dc6edb144ec482aa4e79fd0738c1": {
          "model_module": "@jupyter-widgets/controls",
          "model_name": "HTMLModel",
          "model_module_version": "1.5.0",
          "state": {
            "_view_name": "HTMLView",
            "style": "IPY_MODEL_e054c0686f2a4cfdad0c106004abd6e4",
            "_dom_classes": [],
            "description": "",
            "_model_name": "HTMLModel",
            "placeholder": "​",
            "_view_module": "@jupyter-widgets/controls",
            "_model_module_version": "1.5.0",
            "value": " 112/112 [00:01&lt;00:00, 72.7B/s]",
            "_view_count": null,
            "_view_module_version": "1.5.0",
            "description_tooltip": null,
            "_model_module": "@jupyter-widgets/controls",
            "layout": "IPY_MODEL_3675232fa9204770b75861d4bdd8e948"
          }
        },
        "eec2d787cd5845ceac2940d8983320f6": {
          "model_module": "@jupyter-widgets/controls",
          "model_name": "ProgressStyleModel",
          "model_module_version": "1.5.0",
          "state": {
            "_view_name": "StyleView",
            "_model_name": "ProgressStyleModel",
            "description_width": "initial",
            "_view_module": "@jupyter-widgets/base",
            "_model_module_version": "1.5.0",
            "_view_count": null,
            "_view_module_version": "1.2.0",
            "bar_color": null,
            "_model_module": "@jupyter-widgets/controls"
          }
        },
        "e09ad032afd440c8bc95992ed75020ca": {
          "model_module": "@jupyter-widgets/base",
          "model_name": "LayoutModel",
          "model_module_version": "1.2.0",
          "state": {
            "_view_name": "LayoutView",
            "grid_template_rows": null,
            "right": null,
            "justify_content": null,
            "_view_module": "@jupyter-widgets/base",
            "overflow": null,
            "_model_module_version": "1.2.0",
            "_view_count": null,
            "flex_flow": null,
            "width": null,
            "min_width": null,
            "border": null,
            "align_items": null,
            "bottom": null,
            "_model_module": "@jupyter-widgets/base",
            "top": null,
            "grid_column": null,
            "overflow_y": null,
            "overflow_x": null,
            "grid_auto_flow": null,
            "grid_area": null,
            "grid_template_columns": null,
            "flex": null,
            "_model_name": "LayoutModel",
            "justify_items": null,
            "grid_row": null,
            "max_height": null,
            "align_content": null,
            "visibility": null,
            "align_self": null,
            "height": null,
            "min_height": null,
            "padding": null,
            "grid_auto_rows": null,
            "grid_gap": null,
            "max_width": null,
            "order": null,
            "_view_module_version": "1.2.0",
            "grid_template_areas": null,
            "object_position": null,
            "object_fit": null,
            "grid_auto_columns": null,
            "margin": null,
            "display": null,
            "left": null
          }
        },
        "e054c0686f2a4cfdad0c106004abd6e4": {
          "model_module": "@jupyter-widgets/controls",
          "model_name": "DescriptionStyleModel",
          "model_module_version": "1.5.0",
          "state": {
            "_view_name": "StyleView",
            "_model_name": "DescriptionStyleModel",
            "description_width": "",
            "_view_module": "@jupyter-widgets/base",
            "_model_module_version": "1.5.0",
            "_view_count": null,
            "_view_module_version": "1.2.0",
            "_model_module": "@jupyter-widgets/controls"
          }
        },
        "3675232fa9204770b75861d4bdd8e948": {
          "model_module": "@jupyter-widgets/base",
          "model_name": "LayoutModel",
          "model_module_version": "1.2.0",
          "state": {
            "_view_name": "LayoutView",
            "grid_template_rows": null,
            "right": null,
            "justify_content": null,
            "_view_module": "@jupyter-widgets/base",
            "overflow": null,
            "_model_module_version": "1.2.0",
            "_view_count": null,
            "flex_flow": null,
            "width": null,
            "min_width": null,
            "border": null,
            "align_items": null,
            "bottom": null,
            "_model_module": "@jupyter-widgets/base",
            "top": null,
            "grid_column": null,
            "overflow_y": null,
            "overflow_x": null,
            "grid_auto_flow": null,
            "grid_area": null,
            "grid_template_columns": null,
            "flex": null,
            "_model_name": "LayoutModel",
            "justify_items": null,
            "grid_row": null,
            "max_height": null,
            "align_content": null,
            "visibility": null,
            "align_self": null,
            "height": null,
            "min_height": null,
            "padding": null,
            "grid_auto_rows": null,
            "grid_gap": null,
            "max_width": null,
            "order": null,
            "_view_module_version": "1.2.0",
            "grid_template_areas": null,
            "object_position": null,
            "object_fit": null,
            "grid_auto_columns": null,
            "margin": null,
            "display": null,
            "left": null
          }
        },
        "4e7860bbca8d4b69b6e067635d38e973": {
          "model_module": "@jupyter-widgets/controls",
          "model_name": "HBoxModel",
          "model_module_version": "1.5.0",
          "state": {
            "_view_name": "HBoxView",
            "_dom_classes": [],
            "_model_name": "HBoxModel",
            "_view_module": "@jupyter-widgets/controls",
            "_model_module_version": "1.5.0",
            "_view_count": null,
            "_view_module_version": "1.5.0",
            "box_style": "",
            "layout": "IPY_MODEL_f2c55299a409432fa8ef28b6f6dfcfb8",
            "_model_module": "@jupyter-widgets/controls",
            "children": [
              "IPY_MODEL_d230494f180d4b84bcccd214897a3fa8",
              "IPY_MODEL_dc6ed5e5c1e34bc5ba13b2048d07762c"
            ]
          }
        },
        "f2c55299a409432fa8ef28b6f6dfcfb8": {
          "model_module": "@jupyter-widgets/base",
          "model_name": "LayoutModel",
          "model_module_version": "1.2.0",
          "state": {
            "_view_name": "LayoutView",
            "grid_template_rows": null,
            "right": null,
            "justify_content": null,
            "_view_module": "@jupyter-widgets/base",
            "overflow": null,
            "_model_module_version": "1.2.0",
            "_view_count": null,
            "flex_flow": null,
            "width": null,
            "min_width": null,
            "border": null,
            "align_items": null,
            "bottom": null,
            "_model_module": "@jupyter-widgets/base",
            "top": null,
            "grid_column": null,
            "overflow_y": null,
            "overflow_x": null,
            "grid_auto_flow": null,
            "grid_area": null,
            "grid_template_columns": null,
            "flex": null,
            "_model_name": "LayoutModel",
            "justify_items": null,
            "grid_row": null,
            "max_height": null,
            "align_content": null,
            "visibility": null,
            "align_self": null,
            "height": null,
            "min_height": null,
            "padding": null,
            "grid_auto_rows": null,
            "grid_gap": null,
            "max_width": null,
            "order": null,
            "_view_module_version": "1.2.0",
            "grid_template_areas": null,
            "object_position": null,
            "object_fit": null,
            "grid_auto_columns": null,
            "margin": null,
            "display": null,
            "left": null
          }
        },
        "d230494f180d4b84bcccd214897a3fa8": {
          "model_module": "@jupyter-widgets/controls",
          "model_name": "FloatProgressModel",
          "model_module_version": "1.5.0",
          "state": {
            "_view_name": "ProgressView",
            "style": "IPY_MODEL_b93ea19a193f4149b17591f4f5a5fee6",
            "_dom_classes": [],
            "description": "Downloading: 100%",
            "_model_name": "FloatProgressModel",
            "bar_style": "success",
            "max": 85,
            "_view_module": "@jupyter-widgets/controls",
            "_model_module_version": "1.5.0",
            "value": 85,
            "_view_count": null,
            "_view_module_version": "1.5.0",
            "orientation": "horizontal",
            "min": 0,
            "description_tooltip": null,
            "_model_module": "@jupyter-widgets/controls",
            "layout": "IPY_MODEL_167b9d1222994834b23260950a6aeaea"
          }
        },
        "dc6ed5e5c1e34bc5ba13b2048d07762c": {
          "model_module": "@jupyter-widgets/controls",
          "model_name": "HTMLModel",
          "model_module_version": "1.5.0",
          "state": {
            "_view_name": "HTMLView",
            "style": "IPY_MODEL_377b336fa5d04744ac46e440e68c7472",
            "_dom_classes": [],
            "description": "",
            "_model_name": "HTMLModel",
            "placeholder": "​",
            "_view_module": "@jupyter-widgets/controls",
            "_model_module_version": "1.5.0",
            "value": " 85.0/85.0 [00:00&lt;00:00, 1.24kB/s]",
            "_view_count": null,
            "_view_module_version": "1.5.0",
            "description_tooltip": null,
            "_model_module": "@jupyter-widgets/controls",
            "layout": "IPY_MODEL_2ade6ecb19724876a4c55d22bbd9b72e"
          }
        },
        "b93ea19a193f4149b17591f4f5a5fee6": {
          "model_module": "@jupyter-widgets/controls",
          "model_name": "ProgressStyleModel",
          "model_module_version": "1.5.0",
          "state": {
            "_view_name": "StyleView",
            "_model_name": "ProgressStyleModel",
            "description_width": "initial",
            "_view_module": "@jupyter-widgets/base",
            "_model_module_version": "1.5.0",
            "_view_count": null,
            "_view_module_version": "1.2.0",
            "bar_color": null,
            "_model_module": "@jupyter-widgets/controls"
          }
        },
        "167b9d1222994834b23260950a6aeaea": {
          "model_module": "@jupyter-widgets/base",
          "model_name": "LayoutModel",
          "model_module_version": "1.2.0",
          "state": {
            "_view_name": "LayoutView",
            "grid_template_rows": null,
            "right": null,
            "justify_content": null,
            "_view_module": "@jupyter-widgets/base",
            "overflow": null,
            "_model_module_version": "1.2.0",
            "_view_count": null,
            "flex_flow": null,
            "width": null,
            "min_width": null,
            "border": null,
            "align_items": null,
            "bottom": null,
            "_model_module": "@jupyter-widgets/base",
            "top": null,
            "grid_column": null,
            "overflow_y": null,
            "overflow_x": null,
            "grid_auto_flow": null,
            "grid_area": null,
            "grid_template_columns": null,
            "flex": null,
            "_model_name": "LayoutModel",
            "justify_items": null,
            "grid_row": null,
            "max_height": null,
            "align_content": null,
            "visibility": null,
            "align_self": null,
            "height": null,
            "min_height": null,
            "padding": null,
            "grid_auto_rows": null,
            "grid_gap": null,
            "max_width": null,
            "order": null,
            "_view_module_version": "1.2.0",
            "grid_template_areas": null,
            "object_position": null,
            "object_fit": null,
            "grid_auto_columns": null,
            "margin": null,
            "display": null,
            "left": null
          }
        },
        "377b336fa5d04744ac46e440e68c7472": {
          "model_module": "@jupyter-widgets/controls",
          "model_name": "DescriptionStyleModel",
          "model_module_version": "1.5.0",
          "state": {
            "_view_name": "StyleView",
            "_model_name": "DescriptionStyleModel",
            "description_width": "",
            "_view_module": "@jupyter-widgets/base",
            "_model_module_version": "1.5.0",
            "_view_count": null,
            "_view_module_version": "1.2.0",
            "_model_module": "@jupyter-widgets/controls"
          }
        },
        "2ade6ecb19724876a4c55d22bbd9b72e": {
          "model_module": "@jupyter-widgets/base",
          "model_name": "LayoutModel",
          "model_module_version": "1.2.0",
          "state": {
            "_view_name": "LayoutView",
            "grid_template_rows": null,
            "right": null,
            "justify_content": null,
            "_view_module": "@jupyter-widgets/base",
            "overflow": null,
            "_model_module_version": "1.2.0",
            "_view_count": null,
            "flex_flow": null,
            "width": null,
            "min_width": null,
            "border": null,
            "align_items": null,
            "bottom": null,
            "_model_module": "@jupyter-widgets/base",
            "top": null,
            "grid_column": null,
            "overflow_y": null,
            "overflow_x": null,
            "grid_auto_flow": null,
            "grid_area": null,
            "grid_template_columns": null,
            "flex": null,
            "_model_name": "LayoutModel",
            "justify_items": null,
            "grid_row": null,
            "max_height": null,
            "align_content": null,
            "visibility": null,
            "align_self": null,
            "height": null,
            "min_height": null,
            "padding": null,
            "grid_auto_rows": null,
            "grid_gap": null,
            "max_width": null,
            "order": null,
            "_view_module_version": "1.2.0",
            "grid_template_areas": null,
            "object_position": null,
            "object_fit": null,
            "grid_auto_columns": null,
            "margin": null,
            "display": null,
            "left": null
          }
        },
        "c7475d20e6584b6c9086f4f943b43408": {
          "model_module": "@jupyter-widgets/controls",
          "model_name": "HBoxModel",
          "model_module_version": "1.5.0",
          "state": {
            "_view_name": "HBoxView",
            "_dom_classes": [],
            "_model_name": "HBoxModel",
            "_view_module": "@jupyter-widgets/controls",
            "_model_module_version": "1.5.0",
            "_view_count": null,
            "_view_module_version": "1.5.0",
            "box_style": "",
            "layout": "IPY_MODEL_251569c368d84f0e85a6c302510ebea7",
            "_model_module": "@jupyter-widgets/controls",
            "children": [
              "IPY_MODEL_40b269e85e6f40e78c816b7600f820e7",
              "IPY_MODEL_0c1d02c2e8444958ae27f6f336e662b2"
            ]
          }
        },
        "251569c368d84f0e85a6c302510ebea7": {
          "model_module": "@jupyter-widgets/base",
          "model_name": "LayoutModel",
          "model_module_version": "1.2.0",
          "state": {
            "_view_name": "LayoutView",
            "grid_template_rows": null,
            "right": null,
            "justify_content": null,
            "_view_module": "@jupyter-widgets/base",
            "overflow": null,
            "_model_module_version": "1.2.0",
            "_view_count": null,
            "flex_flow": null,
            "width": null,
            "min_width": null,
            "border": null,
            "align_items": null,
            "bottom": null,
            "_model_module": "@jupyter-widgets/base",
            "top": null,
            "grid_column": null,
            "overflow_y": null,
            "overflow_x": null,
            "grid_auto_flow": null,
            "grid_area": null,
            "grid_template_columns": null,
            "flex": null,
            "_model_name": "LayoutModel",
            "justify_items": null,
            "grid_row": null,
            "max_height": null,
            "align_content": null,
            "visibility": null,
            "align_self": null,
            "height": null,
            "min_height": null,
            "padding": null,
            "grid_auto_rows": null,
            "grid_gap": null,
            "max_width": null,
            "order": null,
            "_view_module_version": "1.2.0",
            "grid_template_areas": null,
            "object_position": null,
            "object_fit": null,
            "grid_auto_columns": null,
            "margin": null,
            "display": null,
            "left": null
          }
        },
        "40b269e85e6f40e78c816b7600f820e7": {
          "model_module": "@jupyter-widgets/controls",
          "model_name": "FloatProgressModel",
          "model_module_version": "1.5.0",
          "state": {
            "_view_name": "ProgressView",
            "style": "IPY_MODEL_591ac99858884a929d6ddc728a243153",
            "_dom_classes": [],
            "description": "Downloading: 100%",
            "_model_name": "FloatProgressModel",
            "bar_style": "success",
            "max": 433503000,
            "_view_module": "@jupyter-widgets/controls",
            "_model_module_version": "1.5.0",
            "value": 433503000,
            "_view_count": null,
            "_view_module_version": "1.5.0",
            "orientation": "horizontal",
            "min": 0,
            "description_tooltip": null,
            "_model_module": "@jupyter-widgets/controls",
            "layout": "IPY_MODEL_631aa5d4882e48329c51d084f27f2e2c"
          }
        },
        "0c1d02c2e8444958ae27f6f336e662b2": {
          "model_module": "@jupyter-widgets/controls",
          "model_name": "HTMLModel",
          "model_module_version": "1.5.0",
          "state": {
            "_view_name": "HTMLView",
            "style": "IPY_MODEL_7043e64f04704599a14d5ee5aca98bba",
            "_dom_classes": [],
            "description": "",
            "_model_name": "HTMLModel",
            "placeholder": "​",
            "_view_module": "@jupyter-widgets/controls",
            "_model_module_version": "1.5.0",
            "value": " 434M/434M [00:29&lt;00:00, 14.5MB/s]",
            "_view_count": null,
            "_view_module_version": "1.5.0",
            "description_tooltip": null,
            "_model_module": "@jupyter-widgets/controls",
            "layout": "IPY_MODEL_0b181b33bb1d49d9a7ba0aba712fb5dd"
          }
        },
        "591ac99858884a929d6ddc728a243153": {
          "model_module": "@jupyter-widgets/controls",
          "model_name": "ProgressStyleModel",
          "model_module_version": "1.5.0",
          "state": {
            "_view_name": "StyleView",
            "_model_name": "ProgressStyleModel",
            "description_width": "initial",
            "_view_module": "@jupyter-widgets/base",
            "_model_module_version": "1.5.0",
            "_view_count": null,
            "_view_module_version": "1.2.0",
            "bar_color": null,
            "_model_module": "@jupyter-widgets/controls"
          }
        },
        "631aa5d4882e48329c51d084f27f2e2c": {
          "model_module": "@jupyter-widgets/base",
          "model_name": "LayoutModel",
          "model_module_version": "1.2.0",
          "state": {
            "_view_name": "LayoutView",
            "grid_template_rows": null,
            "right": null,
            "justify_content": null,
            "_view_module": "@jupyter-widgets/base",
            "overflow": null,
            "_model_module_version": "1.2.0",
            "_view_count": null,
            "flex_flow": null,
            "width": null,
            "min_width": null,
            "border": null,
            "align_items": null,
            "bottom": null,
            "_model_module": "@jupyter-widgets/base",
            "top": null,
            "grid_column": null,
            "overflow_y": null,
            "overflow_x": null,
            "grid_auto_flow": null,
            "grid_area": null,
            "grid_template_columns": null,
            "flex": null,
            "_model_name": "LayoutModel",
            "justify_items": null,
            "grid_row": null,
            "max_height": null,
            "align_content": null,
            "visibility": null,
            "align_self": null,
            "height": null,
            "min_height": null,
            "padding": null,
            "grid_auto_rows": null,
            "grid_gap": null,
            "max_width": null,
            "order": null,
            "_view_module_version": "1.2.0",
            "grid_template_areas": null,
            "object_position": null,
            "object_fit": null,
            "grid_auto_columns": null,
            "margin": null,
            "display": null,
            "left": null
          }
        },
        "7043e64f04704599a14d5ee5aca98bba": {
          "model_module": "@jupyter-widgets/controls",
          "model_name": "DescriptionStyleModel",
          "model_module_version": "1.5.0",
          "state": {
            "_view_name": "StyleView",
            "_model_name": "DescriptionStyleModel",
            "description_width": "",
            "_view_module": "@jupyter-widgets/base",
            "_model_module_version": "1.5.0",
            "_view_count": null,
            "_view_module_version": "1.2.0",
            "_model_module": "@jupyter-widgets/controls"
          }
        },
        "0b181b33bb1d49d9a7ba0aba712fb5dd": {
          "model_module": "@jupyter-widgets/base",
          "model_name": "LayoutModel",
          "model_module_version": "1.2.0",
          "state": {
            "_view_name": "LayoutView",
            "grid_template_rows": null,
            "right": null,
            "justify_content": null,
            "_view_module": "@jupyter-widgets/base",
            "overflow": null,
            "_model_module_version": "1.2.0",
            "_view_count": null,
            "flex_flow": null,
            "width": null,
            "min_width": null,
            "border": null,
            "align_items": null,
            "bottom": null,
            "_model_module": "@jupyter-widgets/base",
            "top": null,
            "grid_column": null,
            "overflow_y": null,
            "overflow_x": null,
            "grid_auto_flow": null,
            "grid_area": null,
            "grid_template_columns": null,
            "flex": null,
            "_model_name": "LayoutModel",
            "justify_items": null,
            "grid_row": null,
            "max_height": null,
            "align_content": null,
            "visibility": null,
            "align_self": null,
            "height": null,
            "min_height": null,
            "padding": null,
            "grid_auto_rows": null,
            "grid_gap": null,
            "max_width": null,
            "order": null,
            "_view_module_version": "1.2.0",
            "grid_template_areas": null,
            "object_position": null,
            "object_fit": null,
            "grid_auto_columns": null,
            "margin": null,
            "display": null,
            "left": null
          }
        },
        "57f6c70492084511a967db83bfa1dfa9": {
          "model_module": "@jupyter-widgets/controls",
          "model_name": "HBoxModel",
          "model_module_version": "1.5.0",
          "state": {
            "_view_name": "HBoxView",
            "_dom_classes": [],
            "_model_name": "HBoxModel",
            "_view_module": "@jupyter-widgets/controls",
            "_model_module_version": "1.5.0",
            "_view_count": null,
            "_view_module_version": "1.5.0",
            "box_style": "",
            "layout": "IPY_MODEL_c420d954e88b4433b66c42708f6fa8c9",
            "_model_module": "@jupyter-widgets/controls",
            "children": [
              "IPY_MODEL_9892a74358d94c2b91f799e15d90e4c4",
              "IPY_MODEL_99d467c6df3f4902aa3caff33b2d0724"
            ]
          }
        },
        "c420d954e88b4433b66c42708f6fa8c9": {
          "model_module": "@jupyter-widgets/base",
          "model_name": "LayoutModel",
          "model_module_version": "1.2.0",
          "state": {
            "_view_name": "LayoutView",
            "grid_template_rows": null,
            "right": null,
            "justify_content": null,
            "_view_module": "@jupyter-widgets/base",
            "overflow": null,
            "_model_module_version": "1.2.0",
            "_view_count": null,
            "flex_flow": null,
            "width": null,
            "min_width": null,
            "border": null,
            "align_items": null,
            "bottom": null,
            "_model_module": "@jupyter-widgets/base",
            "top": null,
            "grid_column": null,
            "overflow_y": null,
            "overflow_x": null,
            "grid_auto_flow": null,
            "grid_area": null,
            "grid_template_columns": null,
            "flex": null,
            "_model_name": "LayoutModel",
            "justify_items": null,
            "grid_row": null,
            "max_height": null,
            "align_content": null,
            "visibility": null,
            "align_self": null,
            "height": null,
            "min_height": null,
            "padding": null,
            "grid_auto_rows": null,
            "grid_gap": null,
            "max_width": null,
            "order": null,
            "_view_module_version": "1.2.0",
            "grid_template_areas": null,
            "object_position": null,
            "object_fit": null,
            "grid_auto_columns": null,
            "margin": null,
            "display": null,
            "left": null
          }
        },
        "9892a74358d94c2b91f799e15d90e4c4": {
          "model_module": "@jupyter-widgets/controls",
          "model_name": "FloatProgressModel",
          "model_module_version": "1.5.0",
          "state": {
            "_view_name": "ProgressView",
            "style": "IPY_MODEL_0c577f4ccf5d4b54a5f4a96299e15542",
            "_dom_classes": [],
            "description": "100%",
            "_model_name": "FloatProgressModel",
            "bar_style": "success",
            "max": 29752,
            "_view_module": "@jupyter-widgets/controls",
            "_model_module_version": "1.5.0",
            "value": 29752,
            "_view_count": null,
            "_view_module_version": "1.5.0",
            "orientation": "horizontal",
            "min": 0,
            "description_tooltip": null,
            "_model_module": "@jupyter-widgets/controls",
            "layout": "IPY_MODEL_adbc388a44fb498caccab2a3a4186366"
          }
        },
        "99d467c6df3f4902aa3caff33b2d0724": {
          "model_module": "@jupyter-widgets/controls",
          "model_name": "HTMLModel",
          "model_module_version": "1.5.0",
          "state": {
            "_view_name": "HTMLView",
            "style": "IPY_MODEL_36808c5d9a74444b9e306a7cedb01a77",
            "_dom_classes": [],
            "description": "",
            "_model_name": "HTMLModel",
            "placeholder": "​",
            "_view_module": "@jupyter-widgets/controls",
            "_model_module_version": "1.5.0",
            "value": " 29752/29752 [00:37&lt;00:00, 787.36it/s]",
            "_view_count": null,
            "_view_module_version": "1.5.0",
            "description_tooltip": null,
            "_model_module": "@jupyter-widgets/controls",
            "layout": "IPY_MODEL_cc93c25788654e46a33448ee0a16a98e"
          }
        },
        "0c577f4ccf5d4b54a5f4a96299e15542": {
          "model_module": "@jupyter-widgets/controls",
          "model_name": "ProgressStyleModel",
          "model_module_version": "1.5.0",
          "state": {
            "_view_name": "StyleView",
            "_model_name": "ProgressStyleModel",
            "description_width": "initial",
            "_view_module": "@jupyter-widgets/base",
            "_model_module_version": "1.5.0",
            "_view_count": null,
            "_view_module_version": "1.2.0",
            "bar_color": null,
            "_model_module": "@jupyter-widgets/controls"
          }
        },
        "adbc388a44fb498caccab2a3a4186366": {
          "model_module": "@jupyter-widgets/base",
          "model_name": "LayoutModel",
          "model_module_version": "1.2.0",
          "state": {
            "_view_name": "LayoutView",
            "grid_template_rows": null,
            "right": null,
            "justify_content": null,
            "_view_module": "@jupyter-widgets/base",
            "overflow": null,
            "_model_module_version": "1.2.0",
            "_view_count": null,
            "flex_flow": null,
            "width": null,
            "min_width": null,
            "border": null,
            "align_items": null,
            "bottom": null,
            "_model_module": "@jupyter-widgets/base",
            "top": null,
            "grid_column": null,
            "overflow_y": null,
            "overflow_x": null,
            "grid_auto_flow": null,
            "grid_area": null,
            "grid_template_columns": null,
            "flex": null,
            "_model_name": "LayoutModel",
            "justify_items": null,
            "grid_row": null,
            "max_height": null,
            "align_content": null,
            "visibility": null,
            "align_self": null,
            "height": null,
            "min_height": null,
            "padding": null,
            "grid_auto_rows": null,
            "grid_gap": null,
            "max_width": null,
            "order": null,
            "_view_module_version": "1.2.0",
            "grid_template_areas": null,
            "object_position": null,
            "object_fit": null,
            "grid_auto_columns": null,
            "margin": null,
            "display": null,
            "left": null
          }
        },
        "36808c5d9a74444b9e306a7cedb01a77": {
          "model_module": "@jupyter-widgets/controls",
          "model_name": "DescriptionStyleModel",
          "model_module_version": "1.5.0",
          "state": {
            "_view_name": "StyleView",
            "_model_name": "DescriptionStyleModel",
            "description_width": "",
            "_view_module": "@jupyter-widgets/base",
            "_model_module_version": "1.5.0",
            "_view_count": null,
            "_view_module_version": "1.2.0",
            "_model_module": "@jupyter-widgets/controls"
          }
        },
        "cc93c25788654e46a33448ee0a16a98e": {
          "model_module": "@jupyter-widgets/base",
          "model_name": "LayoutModel",
          "model_module_version": "1.2.0",
          "state": {
            "_view_name": "LayoutView",
            "grid_template_rows": null,
            "right": null,
            "justify_content": null,
            "_view_module": "@jupyter-widgets/base",
            "overflow": null,
            "_model_module_version": "1.2.0",
            "_view_count": null,
            "flex_flow": null,
            "width": null,
            "min_width": null,
            "border": null,
            "align_items": null,
            "bottom": null,
            "_model_module": "@jupyter-widgets/base",
            "top": null,
            "grid_column": null,
            "overflow_y": null,
            "overflow_x": null,
            "grid_auto_flow": null,
            "grid_area": null,
            "grid_template_columns": null,
            "flex": null,
            "_model_name": "LayoutModel",
            "justify_items": null,
            "grid_row": null,
            "max_height": null,
            "align_content": null,
            "visibility": null,
            "align_self": null,
            "height": null,
            "min_height": null,
            "padding": null,
            "grid_auto_rows": null,
            "grid_gap": null,
            "max_width": null,
            "order": null,
            "_view_module_version": "1.2.0",
            "grid_template_areas": null,
            "object_position": null,
            "object_fit": null,
            "grid_auto_columns": null,
            "margin": null,
            "display": null,
            "left": null
          }
        },
        "a0cdd37daeb34bd7ac71a89db77a920b": {
          "model_module": "@jupyter-widgets/controls",
          "model_name": "HBoxModel",
          "model_module_version": "1.5.0",
          "state": {
            "_view_name": "HBoxView",
            "_dom_classes": [],
            "_model_name": "HBoxModel",
            "_view_module": "@jupyter-widgets/controls",
            "_model_module_version": "1.5.0",
            "_view_count": null,
            "_view_module_version": "1.5.0",
            "box_style": "",
            "layout": "IPY_MODEL_6bf4a8016ae9473187fe0d528db01979",
            "_model_module": "@jupyter-widgets/controls",
            "children": [
              "IPY_MODEL_f71086dbccdd4c6980a4fbed2d25ea6c",
              "IPY_MODEL_073f6ff9a86542fba68ed2b1e027c1d8"
            ]
          }
        },
        "6bf4a8016ae9473187fe0d528db01979": {
          "model_module": "@jupyter-widgets/base",
          "model_name": "LayoutModel",
          "model_module_version": "1.2.0",
          "state": {
            "_view_name": "LayoutView",
            "grid_template_rows": null,
            "right": null,
            "justify_content": null,
            "_view_module": "@jupyter-widgets/base",
            "overflow": null,
            "_model_module_version": "1.2.0",
            "_view_count": null,
            "flex_flow": null,
            "width": null,
            "min_width": null,
            "border": null,
            "align_items": null,
            "bottom": null,
            "_model_module": "@jupyter-widgets/base",
            "top": null,
            "grid_column": null,
            "overflow_y": null,
            "overflow_x": null,
            "grid_auto_flow": null,
            "grid_area": null,
            "grid_template_columns": null,
            "flex": null,
            "_model_name": "LayoutModel",
            "justify_items": null,
            "grid_row": null,
            "max_height": null,
            "align_content": null,
            "visibility": null,
            "align_self": null,
            "height": null,
            "min_height": null,
            "padding": null,
            "grid_auto_rows": null,
            "grid_gap": null,
            "max_width": null,
            "order": null,
            "_view_module_version": "1.2.0",
            "grid_template_areas": null,
            "object_position": null,
            "object_fit": null,
            "grid_auto_columns": null,
            "margin": null,
            "display": null,
            "left": null
          }
        },
        "f71086dbccdd4c6980a4fbed2d25ea6c": {
          "model_module": "@jupyter-widgets/controls",
          "model_name": "FloatProgressModel",
          "model_module_version": "1.5.0",
          "state": {
            "_view_name": "ProgressView",
            "style": "IPY_MODEL_49e0c8386b6743929775c245621b5108",
            "_dom_classes": [],
            "description": "100%",
            "_model_name": "FloatProgressModel",
            "bar_style": "success",
            "max": 23802,
            "_view_module": "@jupyter-widgets/controls",
            "_model_module_version": "1.5.0",
            "value": 23802,
            "_view_count": null,
            "_view_module_version": "1.5.0",
            "orientation": "horizontal",
            "min": 0,
            "description_tooltip": null,
            "_model_module": "@jupyter-widgets/controls",
            "layout": "IPY_MODEL_d8af93e4e56941ee943206accac5e674"
          }
        },
        "073f6ff9a86542fba68ed2b1e027c1d8": {
          "model_module": "@jupyter-widgets/controls",
          "model_name": "HTMLModel",
          "model_module_version": "1.5.0",
          "state": {
            "_view_name": "HTMLView",
            "style": "IPY_MODEL_2052b3cef6d04e72aa1f3bdfb4d3687d",
            "_dom_classes": [],
            "description": "",
            "_model_name": "HTMLModel",
            "placeholder": "​",
            "_view_module": "@jupyter-widgets/controls",
            "_model_module_version": "1.5.0",
            "value": " 23802/23802 [1:54:54&lt;00:00,  3.45it/s]",
            "_view_count": null,
            "_view_module_version": "1.5.0",
            "description_tooltip": null,
            "_model_module": "@jupyter-widgets/controls",
            "layout": "IPY_MODEL_a1fc4d5e75804a4f88889584f9ccdf9d"
          }
        },
        "49e0c8386b6743929775c245621b5108": {
          "model_module": "@jupyter-widgets/controls",
          "model_name": "ProgressStyleModel",
          "model_module_version": "1.5.0",
          "state": {
            "_view_name": "StyleView",
            "_model_name": "ProgressStyleModel",
            "description_width": "initial",
            "_view_module": "@jupyter-widgets/base",
            "_model_module_version": "1.5.0",
            "_view_count": null,
            "_view_module_version": "1.2.0",
            "bar_color": null,
            "_model_module": "@jupyter-widgets/controls"
          }
        },
        "d8af93e4e56941ee943206accac5e674": {
          "model_module": "@jupyter-widgets/base",
          "model_name": "LayoutModel",
          "model_module_version": "1.2.0",
          "state": {
            "_view_name": "LayoutView",
            "grid_template_rows": null,
            "right": null,
            "justify_content": null,
            "_view_module": "@jupyter-widgets/base",
            "overflow": null,
            "_model_module_version": "1.2.0",
            "_view_count": null,
            "flex_flow": null,
            "width": null,
            "min_width": null,
            "border": null,
            "align_items": null,
            "bottom": null,
            "_model_module": "@jupyter-widgets/base",
            "top": null,
            "grid_column": null,
            "overflow_y": null,
            "overflow_x": null,
            "grid_auto_flow": null,
            "grid_area": null,
            "grid_template_columns": null,
            "flex": null,
            "_model_name": "LayoutModel",
            "justify_items": null,
            "grid_row": null,
            "max_height": null,
            "align_content": null,
            "visibility": null,
            "align_self": null,
            "height": null,
            "min_height": null,
            "padding": null,
            "grid_auto_rows": null,
            "grid_gap": null,
            "max_width": null,
            "order": null,
            "_view_module_version": "1.2.0",
            "grid_template_areas": null,
            "object_position": null,
            "object_fit": null,
            "grid_auto_columns": null,
            "margin": null,
            "display": null,
            "left": null
          }
        },
        "2052b3cef6d04e72aa1f3bdfb4d3687d": {
          "model_module": "@jupyter-widgets/controls",
          "model_name": "DescriptionStyleModel",
          "model_module_version": "1.5.0",
          "state": {
            "_view_name": "StyleView",
            "_model_name": "DescriptionStyleModel",
            "description_width": "",
            "_view_module": "@jupyter-widgets/base",
            "_model_module_version": "1.5.0",
            "_view_count": null,
            "_view_module_version": "1.2.0",
            "_model_module": "@jupyter-widgets/controls"
          }
        },
        "a1fc4d5e75804a4f88889584f9ccdf9d": {
          "model_module": "@jupyter-widgets/base",
          "model_name": "LayoutModel",
          "model_module_version": "1.2.0",
          "state": {
            "_view_name": "LayoutView",
            "grid_template_rows": null,
            "right": null,
            "justify_content": null,
            "_view_module": "@jupyter-widgets/base",
            "overflow": null,
            "_model_module_version": "1.2.0",
            "_view_count": null,
            "flex_flow": null,
            "width": null,
            "min_width": null,
            "border": null,
            "align_items": null,
            "bottom": null,
            "_model_module": "@jupyter-widgets/base",
            "top": null,
            "grid_column": null,
            "overflow_y": null,
            "overflow_x": null,
            "grid_auto_flow": null,
            "grid_area": null,
            "grid_template_columns": null,
            "flex": null,
            "_model_name": "LayoutModel",
            "justify_items": null,
            "grid_row": null,
            "max_height": null,
            "align_content": null,
            "visibility": null,
            "align_self": null,
            "height": null,
            "min_height": null,
            "padding": null,
            "grid_auto_rows": null,
            "grid_gap": null,
            "max_width": null,
            "order": null,
            "_view_module_version": "1.2.0",
            "grid_template_areas": null,
            "object_position": null,
            "object_fit": null,
            "grid_auto_columns": null,
            "margin": null,
            "display": null,
            "left": null
          }
        },
        "901ff0cc920248599e03ad9b35ad2002": {
          "model_module": "@jupyter-widgets/controls",
          "model_name": "HBoxModel",
          "model_module_version": "1.5.0",
          "state": {
            "_view_name": "HBoxView",
            "_dom_classes": [],
            "_model_name": "HBoxModel",
            "_view_module": "@jupyter-widgets/controls",
            "_model_module_version": "1.5.0",
            "_view_count": null,
            "_view_module_version": "1.5.0",
            "box_style": "",
            "layout": "IPY_MODEL_6f7f3daa8300476aa83b601b86eb5de7",
            "_model_module": "@jupyter-widgets/controls",
            "children": [
              "IPY_MODEL_ced1732ac2d24ea69b43d20742f512d7",
              "IPY_MODEL_acb0d5c66d3c423782cea845874a47ec"
            ]
          }
        },
        "6f7f3daa8300476aa83b601b86eb5de7": {
          "model_module": "@jupyter-widgets/base",
          "model_name": "LayoutModel",
          "model_module_version": "1.2.0",
          "state": {
            "_view_name": "LayoutView",
            "grid_template_rows": null,
            "right": null,
            "justify_content": null,
            "_view_module": "@jupyter-widgets/base",
            "overflow": null,
            "_model_module_version": "1.2.0",
            "_view_count": null,
            "flex_flow": null,
            "width": null,
            "min_width": null,
            "border": null,
            "align_items": null,
            "bottom": null,
            "_model_module": "@jupyter-widgets/base",
            "top": null,
            "grid_column": null,
            "overflow_y": null,
            "overflow_x": null,
            "grid_auto_flow": null,
            "grid_area": null,
            "grid_template_columns": null,
            "flex": null,
            "_model_name": "LayoutModel",
            "justify_items": null,
            "grid_row": null,
            "max_height": null,
            "align_content": null,
            "visibility": null,
            "align_self": null,
            "height": null,
            "min_height": null,
            "padding": null,
            "grid_auto_rows": null,
            "grid_gap": null,
            "max_width": null,
            "order": null,
            "_view_module_version": "1.2.0",
            "grid_template_areas": null,
            "object_position": null,
            "object_fit": null,
            "grid_auto_columns": null,
            "margin": null,
            "display": null,
            "left": null
          }
        },
        "ced1732ac2d24ea69b43d20742f512d7": {
          "model_module": "@jupyter-widgets/controls",
          "model_name": "FloatProgressModel",
          "model_module_version": "1.5.0",
          "state": {
            "_view_name": "ProgressView",
            "style": "IPY_MODEL_2f962f4e54224cb0b1fd6165ccbedd2d",
            "_dom_classes": [],
            "description": "100%",
            "_model_name": "FloatProgressModel",
            "bar_style": "success",
            "max": 5950,
            "_view_module": "@jupyter-widgets/controls",
            "_model_module_version": "1.5.0",
            "value": 5950,
            "_view_count": null,
            "_view_module_version": "1.5.0",
            "orientation": "horizontal",
            "min": 0,
            "description_tooltip": null,
            "_model_module": "@jupyter-widgets/controls",
            "layout": "IPY_MODEL_9c5c7948bcd24d06b3f854a210e28c60"
          }
        },
        "acb0d5c66d3c423782cea845874a47ec": {
          "model_module": "@jupyter-widgets/controls",
          "model_name": "HTMLModel",
          "model_module_version": "1.5.0",
          "state": {
            "_view_name": "HTMLView",
            "style": "IPY_MODEL_abcb31001e44450585149e79699e5054",
            "_dom_classes": [],
            "description": "",
            "_model_name": "HTMLModel",
            "placeholder": "​",
            "_view_module": "@jupyter-widgets/controls",
            "_model_module_version": "1.5.0",
            "value": " 5950/5950 [1:08:55&lt;00:00,  1.44it/s]",
            "_view_count": null,
            "_view_module_version": "1.5.0",
            "description_tooltip": null,
            "_model_module": "@jupyter-widgets/controls",
            "layout": "IPY_MODEL_6491bee1b2094ed181558da404997e6d"
          }
        },
        "2f962f4e54224cb0b1fd6165ccbedd2d": {
          "model_module": "@jupyter-widgets/controls",
          "model_name": "ProgressStyleModel",
          "model_module_version": "1.5.0",
          "state": {
            "_view_name": "StyleView",
            "_model_name": "ProgressStyleModel",
            "description_width": "initial",
            "_view_module": "@jupyter-widgets/base",
            "_model_module_version": "1.5.0",
            "_view_count": null,
            "_view_module_version": "1.2.0",
            "bar_color": null,
            "_model_module": "@jupyter-widgets/controls"
          }
        },
        "9c5c7948bcd24d06b3f854a210e28c60": {
          "model_module": "@jupyter-widgets/base",
          "model_name": "LayoutModel",
          "model_module_version": "1.2.0",
          "state": {
            "_view_name": "LayoutView",
            "grid_template_rows": null,
            "right": null,
            "justify_content": null,
            "_view_module": "@jupyter-widgets/base",
            "overflow": null,
            "_model_module_version": "1.2.0",
            "_view_count": null,
            "flex_flow": null,
            "width": null,
            "min_width": null,
            "border": null,
            "align_items": null,
            "bottom": null,
            "_model_module": "@jupyter-widgets/base",
            "top": null,
            "grid_column": null,
            "overflow_y": null,
            "overflow_x": null,
            "grid_auto_flow": null,
            "grid_area": null,
            "grid_template_columns": null,
            "flex": null,
            "_model_name": "LayoutModel",
            "justify_items": null,
            "grid_row": null,
            "max_height": null,
            "align_content": null,
            "visibility": null,
            "align_self": null,
            "height": null,
            "min_height": null,
            "padding": null,
            "grid_auto_rows": null,
            "grid_gap": null,
            "max_width": null,
            "order": null,
            "_view_module_version": "1.2.0",
            "grid_template_areas": null,
            "object_position": null,
            "object_fit": null,
            "grid_auto_columns": null,
            "margin": null,
            "display": null,
            "left": null
          }
        },
        "abcb31001e44450585149e79699e5054": {
          "model_module": "@jupyter-widgets/controls",
          "model_name": "DescriptionStyleModel",
          "model_module_version": "1.5.0",
          "state": {
            "_view_name": "StyleView",
            "_model_name": "DescriptionStyleModel",
            "description_width": "",
            "_view_module": "@jupyter-widgets/base",
            "_model_module_version": "1.5.0",
            "_view_count": null,
            "_view_module_version": "1.2.0",
            "_model_module": "@jupyter-widgets/controls"
          }
        },
        "6491bee1b2094ed181558da404997e6d": {
          "model_module": "@jupyter-widgets/base",
          "model_name": "LayoutModel",
          "model_module_version": "1.2.0",
          "state": {
            "_view_name": "LayoutView",
            "grid_template_rows": null,
            "right": null,
            "justify_content": null,
            "_view_module": "@jupyter-widgets/base",
            "overflow": null,
            "_model_module_version": "1.2.0",
            "_view_count": null,
            "flex_flow": null,
            "width": null,
            "min_width": null,
            "border": null,
            "align_items": null,
            "bottom": null,
            "_model_module": "@jupyter-widgets/base",
            "top": null,
            "grid_column": null,
            "overflow_y": null,
            "overflow_x": null,
            "grid_auto_flow": null,
            "grid_area": null,
            "grid_template_columns": null,
            "flex": null,
            "_model_name": "LayoutModel",
            "justify_items": null,
            "grid_row": null,
            "max_height": null,
            "align_content": null,
            "visibility": null,
            "align_self": null,
            "height": null,
            "min_height": null,
            "padding": null,
            "grid_auto_rows": null,
            "grid_gap": null,
            "max_width": null,
            "order": null,
            "_view_module_version": "1.2.0",
            "grid_template_areas": null,
            "object_position": null,
            "object_fit": null,
            "grid_auto_columns": null,
            "margin": null,
            "display": null,
            "left": null
          }
        },
        "786c891972b54c0f9988f75d07e9d080": {
          "model_module": "@jupyter-widgets/controls",
          "model_name": "HBoxModel",
          "model_module_version": "1.5.0",
          "state": {
            "_view_name": "HBoxView",
            "_dom_classes": [],
            "_model_name": "HBoxModel",
            "_view_module": "@jupyter-widgets/controls",
            "_model_module_version": "1.5.0",
            "_view_count": null,
            "_view_module_version": "1.5.0",
            "box_style": "",
            "layout": "IPY_MODEL_e99808138a9e42e98c555a366be2ace0",
            "_model_module": "@jupyter-widgets/controls",
            "children": [
              "IPY_MODEL_40ba5ab4a8514fd0ae429afdca9a7163",
              "IPY_MODEL_5dccdba38784425983a6ce60728bb44d"
            ]
          }
        },
        "e99808138a9e42e98c555a366be2ace0": {
          "model_module": "@jupyter-widgets/base",
          "model_name": "LayoutModel",
          "model_module_version": "1.2.0",
          "state": {
            "_view_name": "LayoutView",
            "grid_template_rows": null,
            "right": null,
            "justify_content": null,
            "_view_module": "@jupyter-widgets/base",
            "overflow": null,
            "_model_module_version": "1.2.0",
            "_view_count": null,
            "flex_flow": null,
            "width": null,
            "min_width": null,
            "border": null,
            "align_items": null,
            "bottom": null,
            "_model_module": "@jupyter-widgets/base",
            "top": null,
            "grid_column": null,
            "overflow_y": null,
            "overflow_x": null,
            "grid_auto_flow": null,
            "grid_area": null,
            "grid_template_columns": null,
            "flex": null,
            "_model_name": "LayoutModel",
            "justify_items": null,
            "grid_row": null,
            "max_height": null,
            "align_content": null,
            "visibility": null,
            "align_self": null,
            "height": null,
            "min_height": null,
            "padding": null,
            "grid_auto_rows": null,
            "grid_gap": null,
            "max_width": null,
            "order": null,
            "_view_module_version": "1.2.0",
            "grid_template_areas": null,
            "object_position": null,
            "object_fit": null,
            "grid_auto_columns": null,
            "margin": null,
            "display": null,
            "left": null
          }
        },
        "40ba5ab4a8514fd0ae429afdca9a7163": {
          "model_module": "@jupyter-widgets/controls",
          "model_name": "FloatProgressModel",
          "model_module_version": "1.5.0",
          "state": {
            "_view_name": "ProgressView",
            "style": "IPY_MODEL_5aa5698edab34c87812ee56d73ceb44f",
            "_dom_classes": [],
            "description": "100%",
            "_model_name": "FloatProgressModel",
            "bar_style": "success",
            "max": 23802,
            "_view_module": "@jupyter-widgets/controls",
            "_model_module_version": "1.5.0",
            "value": 23802,
            "_view_count": null,
            "_view_module_version": "1.5.0",
            "orientation": "horizontal",
            "min": 0,
            "description_tooltip": null,
            "_model_module": "@jupyter-widgets/controls",
            "layout": "IPY_MODEL_f90e64ce585f460bbb33a025851d570a"
          }
        },
        "5dccdba38784425983a6ce60728bb44d": {
          "model_module": "@jupyter-widgets/controls",
          "model_name": "HTMLModel",
          "model_module_version": "1.5.0",
          "state": {
            "_view_name": "HTMLView",
            "style": "IPY_MODEL_3814980e9e214f5b91bec07ba582a7bf",
            "_dom_classes": [],
            "description": "",
            "_model_name": "HTMLModel",
            "placeholder": "​",
            "_view_module": "@jupyter-widgets/controls",
            "_model_module_version": "1.5.0",
            "value": " 23802/23802 [57:27&lt;00:00,  6.90it/s]",
            "_view_count": null,
            "_view_module_version": "1.5.0",
            "description_tooltip": null,
            "_model_module": "@jupyter-widgets/controls",
            "layout": "IPY_MODEL_307fc061bd7e4645b65859f882d2b74f"
          }
        },
        "5aa5698edab34c87812ee56d73ceb44f": {
          "model_module": "@jupyter-widgets/controls",
          "model_name": "ProgressStyleModel",
          "model_module_version": "1.5.0",
          "state": {
            "_view_name": "StyleView",
            "_model_name": "ProgressStyleModel",
            "description_width": "initial",
            "_view_module": "@jupyter-widgets/base",
            "_model_module_version": "1.5.0",
            "_view_count": null,
            "_view_module_version": "1.2.0",
            "bar_color": null,
            "_model_module": "@jupyter-widgets/controls"
          }
        },
        "f90e64ce585f460bbb33a025851d570a": {
          "model_module": "@jupyter-widgets/base",
          "model_name": "LayoutModel",
          "model_module_version": "1.2.0",
          "state": {
            "_view_name": "LayoutView",
            "grid_template_rows": null,
            "right": null,
            "justify_content": null,
            "_view_module": "@jupyter-widgets/base",
            "overflow": null,
            "_model_module_version": "1.2.0",
            "_view_count": null,
            "flex_flow": null,
            "width": null,
            "min_width": null,
            "border": null,
            "align_items": null,
            "bottom": null,
            "_model_module": "@jupyter-widgets/base",
            "top": null,
            "grid_column": null,
            "overflow_y": null,
            "overflow_x": null,
            "grid_auto_flow": null,
            "grid_area": null,
            "grid_template_columns": null,
            "flex": null,
            "_model_name": "LayoutModel",
            "justify_items": null,
            "grid_row": null,
            "max_height": null,
            "align_content": null,
            "visibility": null,
            "align_self": null,
            "height": null,
            "min_height": null,
            "padding": null,
            "grid_auto_rows": null,
            "grid_gap": null,
            "max_width": null,
            "order": null,
            "_view_module_version": "1.2.0",
            "grid_template_areas": null,
            "object_position": null,
            "object_fit": null,
            "grid_auto_columns": null,
            "margin": null,
            "display": null,
            "left": null
          }
        },
        "3814980e9e214f5b91bec07ba582a7bf": {
          "model_module": "@jupyter-widgets/controls",
          "model_name": "DescriptionStyleModel",
          "model_module_version": "1.5.0",
          "state": {
            "_view_name": "StyleView",
            "_model_name": "DescriptionStyleModel",
            "description_width": "",
            "_view_module": "@jupyter-widgets/base",
            "_model_module_version": "1.5.0",
            "_view_count": null,
            "_view_module_version": "1.2.0",
            "_model_module": "@jupyter-widgets/controls"
          }
        },
        "307fc061bd7e4645b65859f882d2b74f": {
          "model_module": "@jupyter-widgets/base",
          "model_name": "LayoutModel",
          "model_module_version": "1.2.0",
          "state": {
            "_view_name": "LayoutView",
            "grid_template_rows": null,
            "right": null,
            "justify_content": null,
            "_view_module": "@jupyter-widgets/base",
            "overflow": null,
            "_model_module_version": "1.2.0",
            "_view_count": null,
            "flex_flow": null,
            "width": null,
            "min_width": null,
            "border": null,
            "align_items": null,
            "bottom": null,
            "_model_module": "@jupyter-widgets/base",
            "top": null,
            "grid_column": null,
            "overflow_y": null,
            "overflow_x": null,
            "grid_auto_flow": null,
            "grid_area": null,
            "grid_template_columns": null,
            "flex": null,
            "_model_name": "LayoutModel",
            "justify_items": null,
            "grid_row": null,
            "max_height": null,
            "align_content": null,
            "visibility": null,
            "align_self": null,
            "height": null,
            "min_height": null,
            "padding": null,
            "grid_auto_rows": null,
            "grid_gap": null,
            "max_width": null,
            "order": null,
            "_view_module_version": "1.2.0",
            "grid_template_areas": null,
            "object_position": null,
            "object_fit": null,
            "grid_auto_columns": null,
            "margin": null,
            "display": null,
            "left": null
          }
        },
        "60fa1c1f62104476b7f5a329857a553d": {
          "model_module": "@jupyter-widgets/controls",
          "model_name": "HBoxModel",
          "model_module_version": "1.5.0",
          "state": {
            "_view_name": "HBoxView",
            "_dom_classes": [],
            "_model_name": "HBoxModel",
            "_view_module": "@jupyter-widgets/controls",
            "_model_module_version": "1.5.0",
            "_view_count": null,
            "_view_module_version": "1.5.0",
            "box_style": "",
            "layout": "IPY_MODEL_7e69cfe48a824765b0e0474349e9c1fe",
            "_model_module": "@jupyter-widgets/controls",
            "children": [
              "IPY_MODEL_ed78347081d24b89b9e62b707c66fe00",
              "IPY_MODEL_0e18a336f92f475abdc98d8627ef5ed2"
            ]
          }
        },
        "7e69cfe48a824765b0e0474349e9c1fe": {
          "model_module": "@jupyter-widgets/base",
          "model_name": "LayoutModel",
          "model_module_version": "1.2.0",
          "state": {
            "_view_name": "LayoutView",
            "grid_template_rows": null,
            "right": null,
            "justify_content": null,
            "_view_module": "@jupyter-widgets/base",
            "overflow": null,
            "_model_module_version": "1.2.0",
            "_view_count": null,
            "flex_flow": null,
            "width": null,
            "min_width": null,
            "border": null,
            "align_items": null,
            "bottom": null,
            "_model_module": "@jupyter-widgets/base",
            "top": null,
            "grid_column": null,
            "overflow_y": null,
            "overflow_x": null,
            "grid_auto_flow": null,
            "grid_area": null,
            "grid_template_columns": null,
            "flex": null,
            "_model_name": "LayoutModel",
            "justify_items": null,
            "grid_row": null,
            "max_height": null,
            "align_content": null,
            "visibility": null,
            "align_self": null,
            "height": null,
            "min_height": null,
            "padding": null,
            "grid_auto_rows": null,
            "grid_gap": null,
            "max_width": null,
            "order": null,
            "_view_module_version": "1.2.0",
            "grid_template_areas": null,
            "object_position": null,
            "object_fit": null,
            "grid_auto_columns": null,
            "margin": null,
            "display": null,
            "left": null
          }
        },
        "ed78347081d24b89b9e62b707c66fe00": {
          "model_module": "@jupyter-widgets/controls",
          "model_name": "FloatProgressModel",
          "model_module_version": "1.5.0",
          "state": {
            "_view_name": "ProgressView",
            "style": "IPY_MODEL_57c36d29adf7480fade2dfde5f64bd5e",
            "_dom_classes": [],
            "description": "100%",
            "_model_name": "FloatProgressModel",
            "bar_style": "success",
            "max": 5950,
            "_view_module": "@jupyter-widgets/controls",
            "_model_module_version": "1.5.0",
            "value": 5950,
            "_view_count": null,
            "_view_module_version": "1.5.0",
            "orientation": "horizontal",
            "min": 0,
            "description_tooltip": null,
            "_model_module": "@jupyter-widgets/controls",
            "layout": "IPY_MODEL_c513d0b779cc49d786efaf63969b897f"
          }
        },
        "0e18a336f92f475abdc98d8627ef5ed2": {
          "model_module": "@jupyter-widgets/controls",
          "model_name": "HTMLModel",
          "model_module_version": "1.5.0",
          "state": {
            "_view_name": "HTMLView",
            "style": "IPY_MODEL_d69d602f9f7247a5a229f0290238fe01",
            "_dom_classes": [],
            "description": "",
            "_model_name": "HTMLModel",
            "placeholder": "​",
            "_view_module": "@jupyter-widgets/controls",
            "_model_module_version": "1.5.0",
            "value": " 5950/5950 [11:33&lt;00:00,  8.58it/s]",
            "_view_count": null,
            "_view_module_version": "1.5.0",
            "description_tooltip": null,
            "_model_module": "@jupyter-widgets/controls",
            "layout": "IPY_MODEL_ea345a9c50d1461a965d6cb96d1a1e1c"
          }
        },
        "57c36d29adf7480fade2dfde5f64bd5e": {
          "model_module": "@jupyter-widgets/controls",
          "model_name": "ProgressStyleModel",
          "model_module_version": "1.5.0",
          "state": {
            "_view_name": "StyleView",
            "_model_name": "ProgressStyleModel",
            "description_width": "initial",
            "_view_module": "@jupyter-widgets/base",
            "_model_module_version": "1.5.0",
            "_view_count": null,
            "_view_module_version": "1.2.0",
            "bar_color": null,
            "_model_module": "@jupyter-widgets/controls"
          }
        },
        "c513d0b779cc49d786efaf63969b897f": {
          "model_module": "@jupyter-widgets/base",
          "model_name": "LayoutModel",
          "model_module_version": "1.2.0",
          "state": {
            "_view_name": "LayoutView",
            "grid_template_rows": null,
            "right": null,
            "justify_content": null,
            "_view_module": "@jupyter-widgets/base",
            "overflow": null,
            "_model_module_version": "1.2.0",
            "_view_count": null,
            "flex_flow": null,
            "width": null,
            "min_width": null,
            "border": null,
            "align_items": null,
            "bottom": null,
            "_model_module": "@jupyter-widgets/base",
            "top": null,
            "grid_column": null,
            "overflow_y": null,
            "overflow_x": null,
            "grid_auto_flow": null,
            "grid_area": null,
            "grid_template_columns": null,
            "flex": null,
            "_model_name": "LayoutModel",
            "justify_items": null,
            "grid_row": null,
            "max_height": null,
            "align_content": null,
            "visibility": null,
            "align_self": null,
            "height": null,
            "min_height": null,
            "padding": null,
            "grid_auto_rows": null,
            "grid_gap": null,
            "max_width": null,
            "order": null,
            "_view_module_version": "1.2.0",
            "grid_template_areas": null,
            "object_position": null,
            "object_fit": null,
            "grid_auto_columns": null,
            "margin": null,
            "display": null,
            "left": null
          }
        },
        "d69d602f9f7247a5a229f0290238fe01": {
          "model_module": "@jupyter-widgets/controls",
          "model_name": "DescriptionStyleModel",
          "model_module_version": "1.5.0",
          "state": {
            "_view_name": "StyleView",
            "_model_name": "DescriptionStyleModel",
            "description_width": "",
            "_view_module": "@jupyter-widgets/base",
            "_model_module_version": "1.5.0",
            "_view_count": null,
            "_view_module_version": "1.2.0",
            "_model_module": "@jupyter-widgets/controls"
          }
        },
        "ea345a9c50d1461a965d6cb96d1a1e1c": {
          "model_module": "@jupyter-widgets/base",
          "model_name": "LayoutModel",
          "model_module_version": "1.2.0",
          "state": {
            "_view_name": "LayoutView",
            "grid_template_rows": null,
            "right": null,
            "justify_content": null,
            "_view_module": "@jupyter-widgets/base",
            "overflow": null,
            "_model_module_version": "1.2.0",
            "_view_count": null,
            "flex_flow": null,
            "width": null,
            "min_width": null,
            "border": null,
            "align_items": null,
            "bottom": null,
            "_model_module": "@jupyter-widgets/base",
            "top": null,
            "grid_column": null,
            "overflow_y": null,
            "overflow_x": null,
            "grid_auto_flow": null,
            "grid_area": null,
            "grid_template_columns": null,
            "flex": null,
            "_model_name": "LayoutModel",
            "justify_items": null,
            "grid_row": null,
            "max_height": null,
            "align_content": null,
            "visibility": null,
            "align_self": null,
            "height": null,
            "min_height": null,
            "padding": null,
            "grid_auto_rows": null,
            "grid_gap": null,
            "max_width": null,
            "order": null,
            "_view_module_version": "1.2.0",
            "grid_template_areas": null,
            "object_position": null,
            "object_fit": null,
            "grid_auto_columns": null,
            "margin": null,
            "display": null,
            "left": null
          }
        }
      }
    }
  },
  "cells": [
    {
      "cell_type": "markdown",
      "metadata": {
        "id": "view-in-github",
        "colab_type": "text"
      },
      "source": [
        "<a href=\"https://colab.research.google.com/github/Rafiur/Bert_embeddings_chatbot/blob/main/BioBert_Finetuning_with_Question_Answer_Extractor_Models.ipynb\" target=\"_parent\"><img src=\"https://colab.research.google.com/assets/colab-badge.svg\" alt=\"Open In Colab\"/></a>"
      ]
    },
    {
      "cell_type": "code",
      "metadata": {
        "id": "FXG8IV72J-pX",
        "colab": {
          "base_uri": "https://localhost:8080/"
        },
        "outputId": "6c6c27eb-5383-460f-9c07-86cb3716a0ce"
      },
      "source": [
        "#installing the transformers library\n",
        "!pip install transformers"
      ],
      "execution_count": null,
      "outputs": [
        {
          "output_type": "stream",
          "text": [
            "Collecting transformers\n",
            "\u001b[?25l  Downloading https://files.pythonhosted.org/packages/d5/43/cfe4ee779bbd6a678ac6a97c5a5cdeb03c35f9eaebbb9720b036680f9a2d/transformers-4.6.1-py3-none-any.whl (2.2MB)\n",
            "\u001b[K     |████████████████████████████████| 2.3MB 2.9MB/s \n",
            "\u001b[?25hRequirement already satisfied: tqdm>=4.27 in /usr/local/lib/python3.7/dist-packages (from transformers) (4.41.1)\n",
            "Requirement already satisfied: regex!=2019.12.17 in /usr/local/lib/python3.7/dist-packages (from transformers) (2019.12.20)\n",
            "Collecting sacremoses\n",
            "\u001b[?25l  Downloading https://files.pythonhosted.org/packages/75/ee/67241dc87f266093c533a2d4d3d69438e57d7a90abb216fa076e7d475d4a/sacremoses-0.0.45-py3-none-any.whl (895kB)\n",
            "\u001b[K     |████████████████████████████████| 901kB 16.9MB/s \n",
            "\u001b[?25hRequirement already satisfied: filelock in /usr/local/lib/python3.7/dist-packages (from transformers) (3.0.12)\n",
            "Collecting huggingface-hub==0.0.8\n",
            "  Downloading https://files.pythonhosted.org/packages/a1/88/7b1e45720ecf59c6c6737ff332f41c955963090a18e72acbcbeac6b25e86/huggingface_hub-0.0.8-py3-none-any.whl\n",
            "Requirement already satisfied: requests in /usr/local/lib/python3.7/dist-packages (from transformers) (2.23.0)\n",
            "Requirement already satisfied: importlib-metadata; python_version < \"3.8\" in /usr/local/lib/python3.7/dist-packages (from transformers) (4.0.1)\n",
            "Requirement already satisfied: numpy>=1.17 in /usr/local/lib/python3.7/dist-packages (from transformers) (1.19.5)\n",
            "Requirement already satisfied: packaging in /usr/local/lib/python3.7/dist-packages (from transformers) (20.9)\n",
            "Collecting tokenizers<0.11,>=0.10.1\n",
            "\u001b[?25l  Downloading https://files.pythonhosted.org/packages/d4/e2/df3543e8ffdab68f5acc73f613de9c2b155ac47f162e725dcac87c521c11/tokenizers-0.10.3-cp37-cp37m-manylinux_2_5_x86_64.manylinux1_x86_64.manylinux_2_12_x86_64.manylinux2010_x86_64.whl (3.3MB)\n",
            "\u001b[K     |████████████████████████████████| 3.3MB 21.3MB/s \n",
            "\u001b[?25hRequirement already satisfied: click in /usr/local/lib/python3.7/dist-packages (from sacremoses->transformers) (7.1.2)\n",
            "Requirement already satisfied: six in /usr/local/lib/python3.7/dist-packages (from sacremoses->transformers) (1.15.0)\n",
            "Requirement already satisfied: joblib in /usr/local/lib/python3.7/dist-packages (from sacremoses->transformers) (1.0.1)\n",
            "Requirement already satisfied: certifi>=2017.4.17 in /usr/local/lib/python3.7/dist-packages (from requests->transformers) (2020.12.5)\n",
            "Requirement already satisfied: idna<3,>=2.5 in /usr/local/lib/python3.7/dist-packages (from requests->transformers) (2.10)\n",
            "Requirement already satisfied: chardet<4,>=3.0.2 in /usr/local/lib/python3.7/dist-packages (from requests->transformers) (3.0.4)\n",
            "Requirement already satisfied: urllib3!=1.25.0,!=1.25.1,<1.26,>=1.21.1 in /usr/local/lib/python3.7/dist-packages (from requests->transformers) (1.24.3)\n",
            "Requirement already satisfied: typing-extensions>=3.6.4; python_version < \"3.8\" in /usr/local/lib/python3.7/dist-packages (from importlib-metadata; python_version < \"3.8\"->transformers) (3.7.4.3)\n",
            "Requirement already satisfied: zipp>=0.5 in /usr/local/lib/python3.7/dist-packages (from importlib-metadata; python_version < \"3.8\"->transformers) (3.4.1)\n",
            "Requirement already satisfied: pyparsing>=2.0.2 in /usr/local/lib/python3.7/dist-packages (from packaging->transformers) (2.4.7)\n",
            "Installing collected packages: sacremoses, huggingface-hub, tokenizers, transformers\n",
            "Successfully installed huggingface-hub-0.0.8 sacremoses-0.0.45 tokenizers-0.10.3 transformers-4.6.1\n"
          ],
          "name": "stdout"
        }
      ]
    },
    {
      "cell_type": "code",
      "metadata": {
        "id": "0UFd7JHfJ3V5",
        "colab": {
          "base_uri": "https://localhost:8080/",
          "height": 353,
          "referenced_widgets": [
            "ff983a33c9e74e7089e187420580ba66",
            "cf7f4a350f8945b899ebdba021e69424",
            "0bf73bcba7294d84bfed14d0de2bf2e0",
            "6673bf4ddfa649a1afd00b6fce2687a1",
            "aee38055c8124487b2c8bb8cd80bed02",
            "17c565de618d4abca930156375682bb7",
            "c603e07f57c4413789faee2e31c0c83a",
            "3242a23ccb4b4a79a5d73d16a7977c0f",
            "c8d6433726de4f54ada8013affc25ca8",
            "933c3cef4a3e41be859b503a2feb2c28",
            "17a259693e484ae997562821875c239d",
            "946131aff1ff4aa9a7a0d05d30854e8f",
            "d36a2d68d4774e6eab6af83eaecb300a",
            "34e3dc81eebc48399b4f4fa6b7cfc3c0",
            "1b30ce5373b64980a70f9f986cde2059",
            "14f3a72755a446de9c71730274b38c74",
            "dda5419f4aa646a0ab4b2084fe122756",
            "534381cc1ec8410bb0e5ffd4e04f38b4",
            "ad96245a225a4a149e4230437e3242d2",
            "d221dc6edb144ec482aa4e79fd0738c1",
            "eec2d787cd5845ceac2940d8983320f6",
            "e09ad032afd440c8bc95992ed75020ca",
            "e054c0686f2a4cfdad0c106004abd6e4",
            "3675232fa9204770b75861d4bdd8e948",
            "4e7860bbca8d4b69b6e067635d38e973",
            "f2c55299a409432fa8ef28b6f6dfcfb8",
            "d230494f180d4b84bcccd214897a3fa8",
            "dc6ed5e5c1e34bc5ba13b2048d07762c",
            "b93ea19a193f4149b17591f4f5a5fee6",
            "167b9d1222994834b23260950a6aeaea",
            "377b336fa5d04744ac46e440e68c7472",
            "2ade6ecb19724876a4c55d22bbd9b72e",
            "c7475d20e6584b6c9086f4f943b43408",
            "251569c368d84f0e85a6c302510ebea7",
            "40b269e85e6f40e78c816b7600f820e7",
            "0c1d02c2e8444958ae27f6f336e662b2",
            "591ac99858884a929d6ddc728a243153",
            "631aa5d4882e48329c51d084f27f2e2c",
            "7043e64f04704599a14d5ee5aca98bba",
            "0b181b33bb1d49d9a7ba0aba712fb5dd"
          ]
        },
        "outputId": "673c9883-ba5b-4fac-a73d-b41ae12b663f"
      },
      "source": [
        "#importing the pretrained biobert tokenizer and the biobert model\n",
        "from transformers import AutoTokenizer, TFAutoModel\n",
        "biobert_tokenizer = AutoTokenizer.from_pretrained(\"cambridgeltl/BioRedditBERT-uncased\")\n",
        "\n",
        "biobert_model = TFAutoModel.from_pretrained(\"cambridgeltl/BioRedditBERT-uncased\")"
      ],
      "execution_count": null,
      "outputs": [
        {
          "output_type": "display_data",
          "data": {
            "application/vnd.jupyter.widget-view+json": {
              "model_id": "ff983a33c9e74e7089e187420580ba66",
              "version_minor": 0,
              "version_major": 2
            },
            "text/plain": [
              "HBox(children=(FloatProgress(value=0.0, description='Downloading', max=462.0, style=ProgressStyle(description_…"
            ]
          },
          "metadata": {
            "tags": []
          }
        },
        {
          "output_type": "stream",
          "text": [
            "\n"
          ],
          "name": "stdout"
        },
        {
          "output_type": "display_data",
          "data": {
            "application/vnd.jupyter.widget-view+json": {
              "model_id": "c8d6433726de4f54ada8013affc25ca8",
              "version_minor": 0,
              "version_major": 2
            },
            "text/plain": [
              "HBox(children=(FloatProgress(value=0.0, description='Downloading', max=213450.0, style=ProgressStyle(descripti…"
            ]
          },
          "metadata": {
            "tags": []
          }
        },
        {
          "output_type": "stream",
          "text": [
            "\n"
          ],
          "name": "stdout"
        },
        {
          "output_type": "display_data",
          "data": {
            "application/vnd.jupyter.widget-view+json": {
              "model_id": "dda5419f4aa646a0ab4b2084fe122756",
              "version_minor": 0,
              "version_major": 2
            },
            "text/plain": [
              "HBox(children=(FloatProgress(value=0.0, description='Downloading', max=112.0, style=ProgressStyle(description_…"
            ]
          },
          "metadata": {
            "tags": []
          }
        },
        {
          "output_type": "stream",
          "text": [
            "\n"
          ],
          "name": "stdout"
        },
        {
          "output_type": "display_data",
          "data": {
            "application/vnd.jupyter.widget-view+json": {
              "model_id": "4e7860bbca8d4b69b6e067635d38e973",
              "version_minor": 0,
              "version_major": 2
            },
            "text/plain": [
              "HBox(children=(FloatProgress(value=0.0, description='Downloading', max=85.0, style=ProgressStyle(description_w…"
            ]
          },
          "metadata": {
            "tags": []
          }
        },
        {
          "output_type": "stream",
          "text": [
            "\n"
          ],
          "name": "stdout"
        },
        {
          "output_type": "display_data",
          "data": {
            "application/vnd.jupyter.widget-view+json": {
              "model_id": "c7475d20e6584b6c9086f4f943b43408",
              "version_minor": 0,
              "version_major": 2
            },
            "text/plain": [
              "HBox(children=(FloatProgress(value=0.0, description='Downloading', max=433503000.0, style=ProgressStyle(descri…"
            ]
          },
          "metadata": {
            "tags": []
          }
        },
        {
          "output_type": "stream",
          "text": [
            "\n"
          ],
          "name": "stdout"
        },
        {
          "output_type": "stream",
          "text": [
            "All model checkpoint layers were used when initializing TFBertModel.\n",
            "\n",
            "All the layers of TFBertModel were initialized from the model checkpoint at cambridgeltl/BioRedditBERT-uncased.\n",
            "If your task is similar to the task the model of the checkpoint was trained on, you can already use TFBertModel for predictions without further training.\n"
          ],
          "name": "stderr"
        }
      ]
    },
    {
      "cell_type": "code",
      "metadata": {
        "id": "k-1MuSmKKHAa",
        "colab": {
          "base_uri": "https://localhost:8080/"
        },
        "outputId": "c98d4430-9f1e-48da-958e-4f94c4dd0247"
      },
      "source": [
        "#displaying biobert model summary\n",
        "biobert_model.summary()"
      ],
      "execution_count": null,
      "outputs": [
        {
          "output_type": "stream",
          "text": [
            "Model: \"tf_bert_model\"\n",
            "_________________________________________________________________\n",
            "Layer (type)                 Output Shape              Param #   \n",
            "=================================================================\n",
            "bert (TFBertMainLayer)       multiple                  108310272 \n",
            "=================================================================\n",
            "Total params: 108,310,272\n",
            "Trainable params: 108,310,272\n",
            "Non-trainable params: 0\n",
            "_________________________________________________________________\n"
          ],
          "name": "stdout"
        }
      ]
    },
    {
      "cell_type": "markdown",
      "metadata": {
        "id": "UA3iRSfMfXzn"
      },
      "source": [
        "**DataSet Creation**"
      ]
    },
    {
      "cell_type": "code",
      "metadata": {
        "id": "2ikyDEKQwCd9",
        "colab": {
          "base_uri": "https://localhost:8080/"
        },
        "outputId": "ebdabc9c-d8db-435e-f5ba-dabbdd8b6ed5"
      },
      "source": [
        "from google.colab import drive\n",
        "drive.mount('/content/gdrive')"
      ],
      "execution_count": null,
      "outputs": [
        {
          "output_type": "stream",
          "text": [
            "Go to this URL in a browser: https://accounts.google.com/o/oauth2/auth?client_id=947318989803-6bn6qk8qdgf4n4g3pfee6491hc0brc4i.apps.googleusercontent.com&redirect_uri=urn%3aietf%3awg%3aoauth%3a2.0%3aoob&scope=email%20https%3a%2f%2fwww.googleapis.com%2fauth%2fdocs.test%20https%3a%2f%2fwww.googleapis.com%2fauth%2fdrive%20https%3a%2f%2fwww.googleapis.com%2fauth%2fdrive.photos.readonly%20https%3a%2f%2fwww.googleapis.com%2fauth%2fpeopleapi.readonly%20https%3a%2f%2fwww.googleapis.com%2fauth%2fdrive.activity.readonly%20https%3a%2f%2fwww.googleapis.com%2fauth%2fexperimentsandconfigs%20https%3a%2f%2fwww.googleapis.com%2fauth%2fphotos.native&response_type=code\n",
            "\n",
            "Enter your authorization code:\n",
            "4/1AY0e-g6Ll3Z-fhdbVR_hRqFRI4OKmr4R7HyZbuiTGJLvs2t-GDP5hOiDC0E\n",
            "Mounted at /content/gdrive\n"
          ],
          "name": "stdout"
        }
      ]
    },
    {
      "cell_type": "code",
      "metadata": {
        "id": "e-AGJMEcTsZ_"
      },
      "source": [
        "#loading the json medical data files\n",
        "import json\n",
        "with open('/content/gdrive/MyDrive/Medical-Chatbot-using-Bert-and-GPT2-main/ehealthforumQAs.json') as f1:\n",
        "  ehealth = json.load(f1)\n",
        "#  ehealth = int(ehealth)\n",
        "with open('/content/gdrive/MyDrive/Medical-Chatbot-using-Bert-and-GPT2-main/icliniqQAs.json') as f2:\n",
        "  icliniq=json.load(f2)\n",
        "with open('/content/gdrive/MyDrive/Medical-Chatbot-using-Bert-and-GPT2-main/questionDoctorQAs.json') as f3:\n",
        "  questiondoctor=json.load(f3)\n",
        "# from p2p.basic import files as f\n",
        "# def file_get_contents(fname):\n",
        "#     if s.stripos(fname, 'http://'):\n",
        "#         import urllib2\n",
        "#         return urllib2.urlopen(fname).read(maxUrlRead)\n",
        "#     else:\n",
        "#         return open(fname).read(maxFileRead)\n",
        "\n",
        "with open('/content/gdrive/MyDrive/Medical-Chatbot-using-Bert-and-GPT2-main/webmdQAs.json') as f4:\n",
        "  webmd=json.load(f4)\n",
        "\n",
        "with open('/content/gdrive/MyDrive/Medical-Chatbot-using-Bert-and-GPT2-main/csvjson.json')as f5:\n",
        "  cbt=json.load(f5)\n",
        "#  webmd = json.loads(f.file_get_contents(f4))"
      ],
      "execution_count": null,
      "outputs": []
    },
    {
      "cell_type": "code",
      "metadata": {
        "id": "wQhrImI6VPX0"
      },
      "source": [
        "#function to extract question,answer and tags from the json objects\n",
        "def extract_answer_question_tags(json_data):\n",
        "  questions=[]\n",
        "  answers=[]\n",
        "  tags=[]\n",
        "  for i in json_data:\n",
        "    questions.append(i['question'])\n",
        "    answers.append(i['answer'])\n",
        "    tags.append(i['tags'])\n",
        "  return questions,answers,tags"
      ],
      "execution_count": null,
      "outputs": []
    },
    {
      "cell_type": "code",
      "metadata": {
        "id": "0oiobQZYV6bZ",
        "colab": {
          "base_uri": "https://localhost:8080/"
        },
        "outputId": "8452d95b-bf4b-42f3-8e39-490ab896b126"
      },
      "source": [
        "#extracting the question,answer and tags from the medical json objects\n",
        "all_questions=[]\n",
        "all_answers=[]\n",
        "all_tags=[]\n",
        "for i in [ehealth,icliniq,questiondoctor,webmd]:\n",
        "  questions,answers,tags=extract_answer_question_tags(i)\n",
        "  all_questions.extend(questions)\n",
        "  all_answers.extend(answers)\n",
        "  all_tags.extend(tags)\n",
        "print(len(all_questions),len(all_answers),len(all_tags))"
      ],
      "execution_count": null,
      "outputs": [
        {
          "output_type": "stream",
          "text": [
            "29752 29752 29752\n"
          ],
          "name": "stdout"
        }
      ]
    },
    {
      "cell_type": "code",
      "metadata": {
        "id": "JRGtIkdpWrGG"
      },
      "source": [
        "#loading and storing the medical data into dataframe and csv file correspondingly.\n",
        "import pandas as pd\n",
        "all_data=pd.DataFrame({'questions':all_questions,'answers':all_answers,'tags':all_tags})\n",
        "all_data.to_csv('all_data.csv',index=False)"
      ],
      "execution_count": null,
      "outputs": []
    },
    {
      "cell_type": "code",
      "metadata": {
        "id": "kDpeEGAv-U0N"
      },
      "source": [
        "#loading medical data from the disk\n",
        "all_data=pd.read_csv('all_data.csv')"
      ],
      "execution_count": null,
      "outputs": []
    },
    {
      "cell_type": "code",
      "metadata": {
        "id": "CDToddteA6jD",
        "colab": {
          "base_uri": "https://localhost:8080/",
          "height": 589
        },
        "outputId": "71faa120-98d6-4402-b898-516e59c13b23"
      },
      "source": [
        "#displaying the medical data.\n",
        "all_data"
      ],
      "execution_count": null,
      "outputs": [
        {
          "output_type": "execute_result",
          "data": {
            "text/html": [
              "<div>\n",
              "<style scoped>\n",
              "    .dataframe tbody tr th:only-of-type {\n",
              "        vertical-align: middle;\n",
              "    }\n",
              "\n",
              "    .dataframe tbody tr th {\n",
              "        vertical-align: top;\n",
              "    }\n",
              "\n",
              "    .dataframe thead th {\n",
              "        text-align: right;\n",
              "    }\n",
              "</style>\n",
              "<table border=\"1\" class=\"dataframe\">\n",
              "  <thead>\n",
              "    <tr style=\"text-align: right;\">\n",
              "      <th></th>\n",
              "      <th>questions</th>\n",
              "      <th>answers</th>\n",
              "      <th>tags</th>\n",
              "    </tr>\n",
              "  </thead>\n",
              "  <tbody>\n",
              "    <tr>\n",
              "      <th>0</th>\n",
              "      <td>how do i stop smoking now</td>\n",
              "      <td>stopping smoking is about will power and being...</td>\n",
              "      <td>['addiction', 'stop smoking']</td>\n",
              "    </tr>\n",
              "    <tr>\n",
              "      <th>1</th>\n",
              "      <td>i had a tubaligation 4 years ago and also have...</td>\n",
              "      <td>hello this sounds quite unfamiliar that due to...</td>\n",
              "      <td>['pregnancy', 'diet', 'endometriosis']</td>\n",
              "    </tr>\n",
              "    <tr>\n",
              "      <th>2</th>\n",
              "      <td>could extra caffeine consumption be a cause of...</td>\n",
              "      <td>extra caffeine can cause gastric discomfort th...</td>\n",
              "      <td>['breast cancer', 'cancer', 'breasts']</td>\n",
              "    </tr>\n",
              "    <tr>\n",
              "      <th>3</th>\n",
              "      <td>hello- i am a 24 year old female 5\"4 &amp; 115 lb ...</td>\n",
              "      <td>hello thanks for submitting your question here...</td>\n",
              "      <td>['hair loss', 'diet', 'acne', 'ovulation and o...</td>\n",
              "    </tr>\n",
              "    <tr>\n",
              "      <th>4</th>\n",
              "      <td>i was wanting to know if you could tell me if ...</td>\n",
              "      <td>i am glad to help you out. this is not possibl...</td>\n",
              "      <td>['am i pregnant', 'pregnant', 'urine pregnancy...</td>\n",
              "    </tr>\n",
              "    <tr>\n",
              "      <th>...</th>\n",
              "      <td>...</td>\n",
              "      <td>...</td>\n",
              "      <td>...</td>\n",
              "    </tr>\n",
              "    <tr>\n",
              "      <th>29747</th>\n",
              "      <td>how can accidental of acetaminophen overdose b...</td>\n",
              "      <td>to avoid unintentional overdoses among adults ...</td>\n",
              "      <td>['drug overdose', 'acetaminophen']</td>\n",
              "    </tr>\n",
              "    <tr>\n",
              "      <th>29748</th>\n",
              "      <td>what should i do if i take an overdose of maxalt?</td>\n",
              "      <td>if you take more medication than you have been...</td>\n",
              "      <td>['drug overdose']</td>\n",
              "    </tr>\n",
              "    <tr>\n",
              "      <th>29749</th>\n",
              "      <td>what do i do in case of an overdose of relpax?</td>\n",
              "      <td>call your doctor or poison control center or g...</td>\n",
              "      <td>['drug overdose']</td>\n",
              "    </tr>\n",
              "    <tr>\n",
              "      <th>29750</th>\n",
              "      <td>is overdose with acetaminophen usually acciden...</td>\n",
              "      <td>in the u. s. suicide attempts account for over...</td>\n",
              "      <td>['drug overdose', 'acetaminophen']</td>\n",
              "    </tr>\n",
              "    <tr>\n",
              "      <th>29751</th>\n",
              "      <td>how does an overdose of acetaminophen cause li...</td>\n",
              "      <td>the answer is that liver damage from acetamino...</td>\n",
              "      <td>['drug overdose', 'injury', 'liver', 'acetamin...</td>\n",
              "    </tr>\n",
              "  </tbody>\n",
              "</table>\n",
              "<p>29752 rows × 3 columns</p>\n",
              "</div>"
            ],
            "text/plain": [
              "                                               questions  ...                                               tags\n",
              "0                              how do i stop smoking now  ...                      ['addiction', 'stop smoking']\n",
              "1      i had a tubaligation 4 years ago and also have...  ...             ['pregnancy', 'diet', 'endometriosis']\n",
              "2      could extra caffeine consumption be a cause of...  ...             ['breast cancer', 'cancer', 'breasts']\n",
              "3      hello- i am a 24 year old female 5\"4 & 115 lb ...  ...  ['hair loss', 'diet', 'acne', 'ovulation and o...\n",
              "4      i was wanting to know if you could tell me if ...  ...  ['am i pregnant', 'pregnant', 'urine pregnancy...\n",
              "...                                                  ...  ...                                                ...\n",
              "29747  how can accidental of acetaminophen overdose b...  ...                 ['drug overdose', 'acetaminophen']\n",
              "29748  what should i do if i take an overdose of maxalt?  ...                                  ['drug overdose']\n",
              "29749     what do i do in case of an overdose of relpax?  ...                                  ['drug overdose']\n",
              "29750  is overdose with acetaminophen usually acciden...  ...                 ['drug overdose', 'acetaminophen']\n",
              "29751  how does an overdose of acetaminophen cause li...  ...  ['drug overdose', 'injury', 'liver', 'acetamin...\n",
              "\n",
              "[29752 rows x 3 columns]"
            ]
          },
          "metadata": {
            "tags": []
          },
          "execution_count": 30
        }
      ]
    },
    {
      "cell_type": "code",
      "metadata": {
        "id": "WNX1t0rCLzo_"
      },
      "source": [
        "import re\n",
        "import numpy as np\n",
        "#function to preprocess tags post loading from disk\n",
        "def preprocess_tags(tags):\n",
        "  tags=tags[1:-1]\n",
        "  tags=tags.replace(\"\\'\",'')\n",
        "  return np.array(tags.split(', '))"
      ],
      "execution_count": null,
      "outputs": []
    },
    {
      "cell_type": "code",
      "metadata": {
        "id": "Ajun6AnkKGqy"
      },
      "source": [
        "#preprocessing the tags post loading from disk\n",
        "all_data['tags']=all_data.tags.apply(lambda x: preprocess_tags(x))"
      ],
      "execution_count": null,
      "outputs": []
    },
    {
      "cell_type": "code",
      "metadata": {
        "id": "jvpBBcqKXvyQ",
        "colab": {
          "base_uri": "https://localhost:8080/",
          "height": 289
        },
        "outputId": "432acabf-fd14-4dde-bd69-74ada8cf5e00"
      },
      "source": [
        "#displaying the data\n",
        "all_data.head()"
      ],
      "execution_count": null,
      "outputs": [
        {
          "output_type": "execute_result",
          "data": {
            "text/html": [
              "<div>\n",
              "<style scoped>\n",
              "    .dataframe tbody tr th:only-of-type {\n",
              "        vertical-align: middle;\n",
              "    }\n",
              "\n",
              "    .dataframe tbody tr th {\n",
              "        vertical-align: top;\n",
              "    }\n",
              "\n",
              "    .dataframe thead th {\n",
              "        text-align: right;\n",
              "    }\n",
              "</style>\n",
              "<table border=\"1\" class=\"dataframe\">\n",
              "  <thead>\n",
              "    <tr style=\"text-align: right;\">\n",
              "      <th></th>\n",
              "      <th>questions</th>\n",
              "      <th>answers</th>\n",
              "      <th>tags</th>\n",
              "    </tr>\n",
              "  </thead>\n",
              "  <tbody>\n",
              "    <tr>\n",
              "      <th>0</th>\n",
              "      <td>how do i stop smoking now</td>\n",
              "      <td>stopping smoking is about will power and being...</td>\n",
              "      <td>[addiction, stop smoking]</td>\n",
              "    </tr>\n",
              "    <tr>\n",
              "      <th>1</th>\n",
              "      <td>i had a tubaligation 4 years ago and also have...</td>\n",
              "      <td>hello this sounds quite unfamiliar that due to...</td>\n",
              "      <td>[pregnancy, diet, endometriosis]</td>\n",
              "    </tr>\n",
              "    <tr>\n",
              "      <th>2</th>\n",
              "      <td>could extra caffeine consumption be a cause of...</td>\n",
              "      <td>extra caffeine can cause gastric discomfort th...</td>\n",
              "      <td>[breast cancer, cancer, breasts]</td>\n",
              "    </tr>\n",
              "    <tr>\n",
              "      <th>3</th>\n",
              "      <td>hello- i am a 24 year old female 5\"4 &amp; 115 lb ...</td>\n",
              "      <td>hello thanks for submitting your question here...</td>\n",
              "      <td>[hair loss, diet, acne, ovulation and ovaries]</td>\n",
              "    </tr>\n",
              "    <tr>\n",
              "      <th>4</th>\n",
              "      <td>i was wanting to know if you could tell me if ...</td>\n",
              "      <td>i am glad to help you out. this is not possibl...</td>\n",
              "      <td>[am i pregnant, pregnant, urine pregnancy test...</td>\n",
              "    </tr>\n",
              "  </tbody>\n",
              "</table>\n",
              "</div>"
            ],
            "text/plain": [
              "                                           questions  ...                                               tags\n",
              "0                          how do i stop smoking now  ...                          [addiction, stop smoking]\n",
              "1  i had a tubaligation 4 years ago and also have...  ...                   [pregnancy, diet, endometriosis]\n",
              "2  could extra caffeine consumption be a cause of...  ...                   [breast cancer, cancer, breasts]\n",
              "3  hello- i am a 24 year old female 5\"4 & 115 lb ...  ...     [hair loss, diet, acne, ovulation and ovaries]\n",
              "4  i was wanting to know if you could tell me if ...  ...  [am i pregnant, pregnant, urine pregnancy test...\n",
              "\n",
              "[5 rows x 3 columns]"
            ]
          },
          "metadata": {
            "tags": []
          },
          "execution_count": 34
        }
      ]
    },
    {
      "cell_type": "code",
      "metadata": {
        "id": "F-d8UCKNb3Jt",
        "colab": {
          "base_uri": "https://localhost:8080/",
          "height": 375
        },
        "outputId": "1d4ae8ac-6d05-4269-cd77-a7d77535ce42"
      },
      "source": [
        "import re\n",
        "#preprocessing questions and answers.\n",
        "def decontractions(phrase):\n",
        "    \"\"\"decontracted takes text and convert contractions into natural form.\n",
        "     ref: https://stackoverflow.com/questions/19790188/expanding-english-language-contractions-in-python/47091490#47091490\"\"\"\n",
        "    phrase = re.sub(r\"won\\'t\", \"will not\", phrase)\n",
        "    phrase = re.sub(r\"can\\'t\", \"can not\", phrase)\n",
        "    phrase = re.sub(r\"won\\’t\", \"will not\", phrase)\n",
        "    phrase = re.sub(r\"can\\’t\", \"can not\", phrase)\n",
        "    phrase = re.sub(r\"n\\'t\", \" not\", phrase)\n",
        "    phrase = re.sub(r\"\\'re\", \" are\", phrase)\n",
        "    phrase = re.sub(r\"\\'s\", \" is\", phrase)\n",
        "    phrase = re.sub(r\"\\'d\", \" would\", phrase)\n",
        "    phrase = re.sub(r\"\\'ll\", \" will\", phrase)\n",
        "    phrase = re.sub(r\"\\'t\", \" not\", phrase)\n",
        "    phrase = re.sub(r\"\\'ve\", \" have\", phrase)\n",
        "    phrase = re.sub(r\"\\'m\", \" am\", phrase)\n",
        "\n",
        "    phrase = re.sub(r\"n\\’t\", \" not\", phrase)\n",
        "    phrase = re.sub(r\"\\’re\", \" are\", phrase)\n",
        "    phrase = re.sub(r\"\\’s\", \" is\", phrase)\n",
        "    phrase = re.sub(r\"\\’d\", \" would\", phrase)\n",
        "    phrase = re.sub(r\"\\’ll\", \" will\", phrase)\n",
        "    phrase = re.sub(r\"\\’t\", \" not\", phrase)\n",
        "    phrase = re.sub(r\"\\’ve\", \" have\", phrase)\n",
        "    phrase = re.sub(r\"\\’m\", \" am\", phrase)\n",
        "\n",
        "    return phrase\n",
        "\n",
        "\n",
        "def preprocess(text):\n",
        "    # convert all the text into lower letters\n",
        "    # remove the words betweent brakets ()\n",
        "    # remove these characters: {'$', ')', '?', '\"', '’', '.',  '°', '!', ';', '/', \"'\", '€', '%', ':', ',', '('}\n",
        "    # replace these spl characters with space: '\\u200b', '\\xa0', '-', '/'\n",
        "    \n",
        "    text = text.lower()\n",
        "    text = decontractions(text)\n",
        "    text = re.sub('[$)\\?\"’.°!;\\'€%:,(/]', '', text)\n",
        "    text = re.sub('\\u200b', ' ', text)\n",
        "    text = re.sub('\\xa0', ' ', text)\n",
        "    text = re.sub('-', ' ', text)\n",
        "    return text\n",
        "\n",
        "\n",
        "all_data['preprocessed_question'] = all_data['questions'].apply(preprocess)\n",
        "all_data['preprocessed_answer'] = all_data['answers'].apply(preprocess)\n",
        "all_data.head()"
      ],
      "execution_count": null,
      "outputs": [
        {
          "output_type": "execute_result",
          "data": {
            "text/html": [
              "<div>\n",
              "<style scoped>\n",
              "    .dataframe tbody tr th:only-of-type {\n",
              "        vertical-align: middle;\n",
              "    }\n",
              "\n",
              "    .dataframe tbody tr th {\n",
              "        vertical-align: top;\n",
              "    }\n",
              "\n",
              "    .dataframe thead th {\n",
              "        text-align: right;\n",
              "    }\n",
              "</style>\n",
              "<table border=\"1\" class=\"dataframe\">\n",
              "  <thead>\n",
              "    <tr style=\"text-align: right;\">\n",
              "      <th></th>\n",
              "      <th>questions</th>\n",
              "      <th>answers</th>\n",
              "      <th>tags</th>\n",
              "      <th>preprocessed_question</th>\n",
              "      <th>preprocessed_answer</th>\n",
              "    </tr>\n",
              "  </thead>\n",
              "  <tbody>\n",
              "    <tr>\n",
              "      <th>0</th>\n",
              "      <td>how do i stop smoking now</td>\n",
              "      <td>stopping smoking is about will power and being...</td>\n",
              "      <td>[addiction, stop smoking]</td>\n",
              "      <td>how do i stop smoking now</td>\n",
              "      <td>stopping smoking is about will power and being...</td>\n",
              "    </tr>\n",
              "    <tr>\n",
              "      <th>1</th>\n",
              "      <td>i had a tubaligation 4 years ago and also have...</td>\n",
              "      <td>hello this sounds quite unfamiliar that due to...</td>\n",
              "      <td>[pregnancy, diet, endometriosis]</td>\n",
              "      <td>i had a tubaligation 4 years ago and also have...</td>\n",
              "      <td>hello this sounds quite unfamiliar that due to...</td>\n",
              "    </tr>\n",
              "    <tr>\n",
              "      <th>2</th>\n",
              "      <td>could extra caffeine consumption be a cause of...</td>\n",
              "      <td>extra caffeine can cause gastric discomfort th...</td>\n",
              "      <td>[breast cancer, cancer, breasts]</td>\n",
              "      <td>could extra caffeine consumption be a cause of...</td>\n",
              "      <td>extra caffeine can cause gastric discomfort th...</td>\n",
              "    </tr>\n",
              "    <tr>\n",
              "      <th>3</th>\n",
              "      <td>hello- i am a 24 year old female 5\"4 &amp; 115 lb ...</td>\n",
              "      <td>hello thanks for submitting your question here...</td>\n",
              "      <td>[hair loss, diet, acne, ovulation and ovaries]</td>\n",
              "      <td>hello  i am a 24 year old female 54 &amp; 115 lb &amp;...</td>\n",
              "      <td>hello thanks for submitting your question here...</td>\n",
              "    </tr>\n",
              "    <tr>\n",
              "      <th>4</th>\n",
              "      <td>i was wanting to know if you could tell me if ...</td>\n",
              "      <td>i am glad to help you out. this is not possibl...</td>\n",
              "      <td>[am i pregnant, pregnant, urine pregnancy test...</td>\n",
              "      <td>i was wanting to know if you could tell me if ...</td>\n",
              "      <td>i am glad to help you out this is not possible...</td>\n",
              "    </tr>\n",
              "  </tbody>\n",
              "</table>\n",
              "</div>"
            ],
            "text/plain": [
              "                                           questions  ...                                preprocessed_answer\n",
              "0                          how do i stop smoking now  ...  stopping smoking is about will power and being...\n",
              "1  i had a tubaligation 4 years ago and also have...  ...  hello this sounds quite unfamiliar that due to...\n",
              "2  could extra caffeine consumption be a cause of...  ...  extra caffeine can cause gastric discomfort th...\n",
              "3  hello- i am a 24 year old female 5\"4 & 115 lb ...  ...  hello thanks for submitting your question here...\n",
              "4  i was wanting to know if you could tell me if ...  ...  i am glad to help you out this is not possible...\n",
              "\n",
              "[5 rows x 5 columns]"
            ]
          },
          "metadata": {
            "tags": []
          },
          "execution_count": 35
        }
      ]
    },
    {
      "cell_type": "code",
      "metadata": {
        "id": "JrPOgz6uAhny"
      },
      "source": [
        "#finding the lens of preprocessed questions and answers\n",
        "all_data['question_len']=all_data['preprocessed_question'].apply(lambda x: len(x.split(' ')))\n",
        "all_data['answer_len']=all_data['preprocessed_answer'].apply(lambda x: len(x.split(' ')))"
      ],
      "execution_count": null,
      "outputs": []
    },
    {
      "cell_type": "code",
      "metadata": {
        "id": "9s6Sl1sMAoxT",
        "colab": {
          "base_uri": "https://localhost:8080/"
        },
        "outputId": "f55e1277-1757-4eb1-b6f2-c3bfab2846e0"
      },
      "source": [
        "#printing different percentiles of question and answer lengths\n",
        "import numpy as np\n",
        "for i in range(0,101,10):\n",
        "  print(i,np.percentile(all_data.question_len,i),np.percentile(all_data.answer_len,i))"
      ],
      "execution_count": null,
      "outputs": [
        {
          "output_type": "stream",
          "text": [
            "0 2.0 1.0\n",
            "10 7.0 21.0\n",
            "20 9.0 31.0\n",
            "30 12.0 40.0\n",
            "40 14.0 50.0\n",
            "50 18.0 61.0\n",
            "60 22.0 77.0\n",
            "70 38.0 99.0\n",
            "80 63.0 134.0\n",
            "90 96.0 201.0\n",
            "100 425.0 1333.0\n"
          ],
          "name": "stdout"
        }
      ]
    },
    {
      "cell_type": "code",
      "metadata": {
        "id": "_0dN4dIaA7yW",
        "colab": {
          "base_uri": "https://localhost:8080/"
        },
        "outputId": "aee5a7d3-26d9-46ce-f1e5-367b6e394197"
      },
      "source": [
        "#printing different percentiles of question and answer lengths\n",
        "for i in range(90,101,1):\n",
        "  print(i,np.percentile(all_data.question_len,i),np.percentile(all_data.answer_len,i))"
      ],
      "execution_count": null,
      "outputs": [
        {
          "output_type": "stream",
          "text": [
            "90 96.0 201.0\n",
            "91 99.0 211.0\n",
            "92 102.0 223.0\n",
            "93 104.43000000000029 236.0\n",
            "94 107.0 254.0\n",
            "95 109.0 275.0\n",
            "96 112.0 301.0\n",
            "97 115.0 343.0\n",
            "98 119.0 397.0\n",
            "99 124.0 495.0\n",
            "100 425.0 1333.0\n"
          ],
          "name": "stdout"
        }
      ]
    },
    {
      "cell_type": "code",
      "metadata": {
        "id": "3QvI2SYKBAT-"
      },
      "source": [
        "#since more than 100% percent of questions and about 99% of all answers lie within 500 words, we use 500 as the max length\n",
        "all_data['short_question']=all_data.apply(lambda x: ' '.join(x.preprocessed_question.split(' ')[:500]) if x.question_len>500 else x.preprocessed_question ,axis=1)\n",
        "all_data['short_answer']=all_data.apply(lambda x: ' '.join(x.preprocessed_answer.split(' ')[:500]) if x.answer_len>500 else x.preprocessed_answer ,axis=1)"
      ],
      "execution_count": null,
      "outputs": []
    },
    {
      "cell_type": "code",
      "metadata": {
        "id": "TGWmgYoRB1Mt",
        "colab": {
          "base_uri": "https://localhost:8080/",
          "height": 655
        },
        "outputId": "2197ca6b-d2e4-4de1-ff9d-1610b3d7de05"
      },
      "source": [
        "#displaying the data post truncating the question and answers to length of 500\n",
        "all_data.head(5)"
      ],
      "execution_count": null,
      "outputs": [
        {
          "output_type": "execute_result",
          "data": {
            "text/html": [
              "<div>\n",
              "<style scoped>\n",
              "    .dataframe tbody tr th:only-of-type {\n",
              "        vertical-align: middle;\n",
              "    }\n",
              "\n",
              "    .dataframe tbody tr th {\n",
              "        vertical-align: top;\n",
              "    }\n",
              "\n",
              "    .dataframe thead th {\n",
              "        text-align: right;\n",
              "    }\n",
              "</style>\n",
              "<table border=\"1\" class=\"dataframe\">\n",
              "  <thead>\n",
              "    <tr style=\"text-align: right;\">\n",
              "      <th></th>\n",
              "      <th>questions</th>\n",
              "      <th>answers</th>\n",
              "      <th>tags</th>\n",
              "      <th>preprocessed_question</th>\n",
              "      <th>preprocessed_answer</th>\n",
              "      <th>question_len</th>\n",
              "      <th>answer_len</th>\n",
              "      <th>short_question</th>\n",
              "      <th>short_answer</th>\n",
              "    </tr>\n",
              "  </thead>\n",
              "  <tbody>\n",
              "    <tr>\n",
              "      <th>0</th>\n",
              "      <td>how do i stop smoking now</td>\n",
              "      <td>stopping smoking is about will power and being...</td>\n",
              "      <td>[addiction, stop smoking]</td>\n",
              "      <td>how do i stop smoking now</td>\n",
              "      <td>stopping smoking is about will power and being...</td>\n",
              "      <td>6</td>\n",
              "      <td>38</td>\n",
              "      <td>how do i stop smoking now</td>\n",
              "      <td>stopping smoking is about will power and being...</td>\n",
              "    </tr>\n",
              "    <tr>\n",
              "      <th>1</th>\n",
              "      <td>i had a tubaligation 4 years ago and also have...</td>\n",
              "      <td>hello this sounds quite unfamiliar that due to...</td>\n",
              "      <td>[pregnancy, diet, endometriosis]</td>\n",
              "      <td>i had a tubaligation 4 years ago and also have...</td>\n",
              "      <td>hello this sounds quite unfamiliar that due to...</td>\n",
              "      <td>58</td>\n",
              "      <td>70</td>\n",
              "      <td>i had a tubaligation 4 years ago and also have...</td>\n",
              "      <td>hello this sounds quite unfamiliar that due to...</td>\n",
              "    </tr>\n",
              "    <tr>\n",
              "      <th>2</th>\n",
              "      <td>could extra caffeine consumption be a cause of...</td>\n",
              "      <td>extra caffeine can cause gastric discomfort th...</td>\n",
              "      <td>[breast cancer, cancer, breasts]</td>\n",
              "      <td>could extra caffeine consumption be a cause of...</td>\n",
              "      <td>extra caffeine can cause gastric discomfort th...</td>\n",
              "      <td>12</td>\n",
              "      <td>77</td>\n",
              "      <td>could extra caffeine consumption be a cause of...</td>\n",
              "      <td>extra caffeine can cause gastric discomfort th...</td>\n",
              "    </tr>\n",
              "    <tr>\n",
              "      <th>3</th>\n",
              "      <td>hello- i am a 24 year old female 5\"4 &amp; 115 lb ...</td>\n",
              "      <td>hello thanks for submitting your question here...</td>\n",
              "      <td>[hair loss, diet, acne, ovulation and ovaries]</td>\n",
              "      <td>hello  i am a 24 year old female 54 &amp; 115 lb &amp;...</td>\n",
              "      <td>hello thanks for submitting your question here...</td>\n",
              "      <td>196</td>\n",
              "      <td>97</td>\n",
              "      <td>hello  i am a 24 year old female 54 &amp; 115 lb &amp;...</td>\n",
              "      <td>hello thanks for submitting your question here...</td>\n",
              "    </tr>\n",
              "    <tr>\n",
              "      <th>4</th>\n",
              "      <td>i was wanting to know if you could tell me if ...</td>\n",
              "      <td>i am glad to help you out. this is not possibl...</td>\n",
              "      <td>[am i pregnant, pregnant, urine pregnancy test...</td>\n",
              "      <td>i was wanting to know if you could tell me if ...</td>\n",
              "      <td>i am glad to help you out this is not possible...</td>\n",
              "      <td>63</td>\n",
              "      <td>80</td>\n",
              "      <td>i was wanting to know if you could tell me if ...</td>\n",
              "      <td>i am glad to help you out this is not possible...</td>\n",
              "    </tr>\n",
              "  </tbody>\n",
              "</table>\n",
              "</div>"
            ],
            "text/plain": [
              "                                           questions  ...                                       short_answer\n",
              "0                          how do i stop smoking now  ...  stopping smoking is about will power and being...\n",
              "1  i had a tubaligation 4 years ago and also have...  ...  hello this sounds quite unfamiliar that due to...\n",
              "2  could extra caffeine consumption be a cause of...  ...  extra caffeine can cause gastric discomfort th...\n",
              "3  hello- i am a 24 year old female 5\"4 & 115 lb ...  ...  hello thanks for submitting your question here...\n",
              "4  i was wanting to know if you could tell me if ...  ...  i am glad to help you out this is not possible...\n",
              "\n",
              "[5 rows x 9 columns]"
            ]
          },
          "metadata": {
            "tags": []
          },
          "execution_count": 40
        }
      ]
    },
    {
      "cell_type": "code",
      "metadata": {
        "id": "4cM2WF4OF6Nv"
      },
      "source": [
        "#preparing the positive label dataset by taking the original question and original answer\n",
        "all_dataset=all_data[['short_question','short_answer','tags']].copy()\n",
        "all_dataset['label']=1.0"
      ],
      "execution_count": null,
      "outputs": []
    },
    {
      "cell_type": "code",
      "metadata": {
        "id": "x1Ha0LuVke6o"
      },
      "source": [
        "#displaying the positive labelled dataset\n",
        "all_dataset.head(3)"
      ],
      "execution_count": null,
      "outputs": []
    },
    {
      "cell_type": "code",
      "metadata": {
        "id": "7lRO0FjcIOH6"
      },
      "source": [
        "#function to extract the negative samples using tags\n",
        "def extract_negative_samples(question,tags):\n",
        "  stop=False\n",
        "  while (not stop):\n",
        "    sample_row= all_dataset.sample()\n",
        "    sample_tags=sample_row.tags.values[0]\n",
        "    inter_tags=set(tags[0]).intersection(set(sample_tags))\n",
        "    if len(inter_tags)==0:\n",
        "      stop=True\n",
        "  return sample_row\n",
        "\n",
        "\n",
        "\n"
      ],
      "execution_count": null,
      "outputs": []
    },
    {
      "cell_type": "code",
      "metadata": {
        "id": "P22nv4VOGECJ",
        "colab": {
          "base_uri": "https://localhost:8080/",
          "height": 121,
          "referenced_widgets": [
            "57f6c70492084511a967db83bfa1dfa9",
            "c420d954e88b4433b66c42708f6fa8c9",
            "9892a74358d94c2b91f799e15d90e4c4",
            "99d467c6df3f4902aa3caff33b2d0724",
            "0c577f4ccf5d4b54a5f4a96299e15542",
            "adbc388a44fb498caccab2a3a4186366",
            "36808c5d9a74444b9e306a7cedb01a77",
            "cc93c25788654e46a33448ee0a16a98e"
          ]
        },
        "outputId": "d674cd88-922b-41e9-dc5c-ca47c99b6af4"
      },
      "source": [
        "#preparing the negative labelled dataset\n",
        "from tqdm.notebook import tqdm\n",
        "tqdm.pandas()\n",
        "negative_labels=all_dataset.progress_apply(lambda x: pd.Series([x.short_question,extract_negative_samples(x.short_question,x.tags).short_answer.values[0],x.tags]),axis=1)\n",
        "negative_labels['label']=-1.0\n",
        "negative_labels.columns=['short_question','short_answer','tags','label']"
      ],
      "execution_count": null,
      "outputs": [
        {
          "output_type": "stream",
          "text": [
            "/usr/local/lib/python3.7/dist-packages/tqdm/std.py:658: FutureWarning: The Panel class is removed from pandas. Accessing it from the top-level namespace will also be removed in the next version\n",
            "  from pandas import Panel\n"
          ],
          "name": "stderr"
        },
        {
          "output_type": "display_data",
          "data": {
            "application/vnd.jupyter.widget-view+json": {
              "model_id": "57f6c70492084511a967db83bfa1dfa9",
              "version_minor": 0,
              "version_major": 2
            },
            "text/plain": [
              "HBox(children=(FloatProgress(value=0.0, max=29752.0), HTML(value='')))"
            ]
          },
          "metadata": {
            "tags": []
          }
        },
        {
          "output_type": "stream",
          "text": [
            "\n"
          ],
          "name": "stdout"
        }
      ]
    },
    {
      "cell_type": "code",
      "metadata": {
        "id": "cntBYGq9_6M4",
        "colab": {
          "base_uri": "https://localhost:8080/",
          "height": 589
        },
        "outputId": "d96e76c3-eae6-4463-8f3a-44e477b38094"
      },
      "source": [
        "#displaying the negative labelled dataset\n",
        "negative_labels"
      ],
      "execution_count": null,
      "outputs": [
        {
          "output_type": "execute_result",
          "data": {
            "text/html": [
              "<div>\n",
              "<style scoped>\n",
              "    .dataframe tbody tr th:only-of-type {\n",
              "        vertical-align: middle;\n",
              "    }\n",
              "\n",
              "    .dataframe tbody tr th {\n",
              "        vertical-align: top;\n",
              "    }\n",
              "\n",
              "    .dataframe thead th {\n",
              "        text-align: right;\n",
              "    }\n",
              "</style>\n",
              "<table border=\"1\" class=\"dataframe\">\n",
              "  <thead>\n",
              "    <tr style=\"text-align: right;\">\n",
              "      <th></th>\n",
              "      <th>short_question</th>\n",
              "      <th>short_answer</th>\n",
              "      <th>tags</th>\n",
              "      <th>label</th>\n",
              "    </tr>\n",
              "  </thead>\n",
              "  <tbody>\n",
              "    <tr>\n",
              "      <th>0</th>\n",
              "      <td>how do i stop smoking now</td>\n",
              "      <td>hi this is a result of disc problems with nerv...</td>\n",
              "      <td>[addiction, stop smoking]</td>\n",
              "      <td>-1.0</td>\n",
              "    </tr>\n",
              "    <tr>\n",
              "      <th>1</th>\n",
              "      <td>i had a tubaligation 4 years ago and also have...</td>\n",
              "      <td>no antibiotics play no role in treating the co...</td>\n",
              "      <td>[pregnancy, diet, endometriosis]</td>\n",
              "      <td>-1.0</td>\n",
              "    </tr>\n",
              "    <tr>\n",
              "      <th>2</th>\n",
              "      <td>could extra caffeine consumption be a cause of...</td>\n",
              "      <td>hi this can be due to a anaphylaxis reaction t...</td>\n",
              "      <td>[breast cancer, cancer, breasts]</td>\n",
              "      <td>-1.0</td>\n",
              "    </tr>\n",
              "    <tr>\n",
              "      <th>3</th>\n",
              "      <td>hello  i am a 24 year old female 54 &amp; 115 lb &amp;...</td>\n",
              "      <td>yes as disease progress the arthritis may spre...</td>\n",
              "      <td>[hair loss, diet, acne, ovulation and ovaries]</td>\n",
              "      <td>-1.0</td>\n",
              "    </tr>\n",
              "    <tr>\n",
              "      <th>4</th>\n",
              "      <td>i was wanting to know if you could tell me if ...</td>\n",
              "      <td>i have read the stomach bug norovirus attacks ...</td>\n",
              "      <td>[am i pregnant, pregnant, urine pregnancy test...</td>\n",
              "      <td>-1.0</td>\n",
              "    </tr>\n",
              "    <tr>\n",
              "      <th>...</th>\n",
              "      <td>...</td>\n",
              "      <td>...</td>\n",
              "      <td>...</td>\n",
              "      <td>...</td>\n",
              "    </tr>\n",
              "    <tr>\n",
              "      <th>29747</th>\n",
              "      <td>how can accidental of acetaminophen overdose b...</td>\n",
              "      <td>patients are usually diagnosed by their clinic...</td>\n",
              "      <td>[drug overdose, acetaminophen]</td>\n",
              "      <td>-1.0</td>\n",
              "    </tr>\n",
              "    <tr>\n",
              "      <th>29748</th>\n",
              "      <td>what should i do if i take an overdose of maxalt</td>\n",
              "      <td>his body isnt tolerating something he has been...</td>\n",
              "      <td>[drug overdose]</td>\n",
              "      <td>-1.0</td>\n",
              "    </tr>\n",
              "    <tr>\n",
              "      <th>29749</th>\n",
              "      <td>what do i do in case of an overdose of relpax</td>\n",
              "      <td>when lupus symptoms appear it is called a flar...</td>\n",
              "      <td>[drug overdose]</td>\n",
              "      <td>-1.0</td>\n",
              "    </tr>\n",
              "    <tr>\n",
              "      <th>29750</th>\n",
              "      <td>is overdose with acetaminophen usually acciden...</td>\n",
              "      <td>hi i need to know the stage of the cancer whet...</td>\n",
              "      <td>[drug overdose, acetaminophen]</td>\n",
              "      <td>-1.0</td>\n",
              "    </tr>\n",
              "    <tr>\n",
              "      <th>29751</th>\n",
              "      <td>how does an overdose of acetaminophen cause li...</td>\n",
              "      <td>bleeding after cold coagulation can occur for ...</td>\n",
              "      <td>[drug overdose, injury, liver, acetaminophen]</td>\n",
              "      <td>-1.0</td>\n",
              "    </tr>\n",
              "  </tbody>\n",
              "</table>\n",
              "<p>29752 rows × 4 columns</p>\n",
              "</div>"
            ],
            "text/plain": [
              "                                          short_question  ... label\n",
              "0                              how do i stop smoking now  ...  -1.0\n",
              "1      i had a tubaligation 4 years ago and also have...  ...  -1.0\n",
              "2      could extra caffeine consumption be a cause of...  ...  -1.0\n",
              "3      hello  i am a 24 year old female 54 & 115 lb &...  ...  -1.0\n",
              "4      i was wanting to know if you could tell me if ...  ...  -1.0\n",
              "...                                                  ...  ...   ...\n",
              "29747  how can accidental of acetaminophen overdose b...  ...  -1.0\n",
              "29748   what should i do if i take an overdose of maxalt  ...  -1.0\n",
              "29749      what do i do in case of an overdose of relpax  ...  -1.0\n",
              "29750  is overdose with acetaminophen usually acciden...  ...  -1.0\n",
              "29751  how does an overdose of acetaminophen cause li...  ...  -1.0\n",
              "\n",
              "[29752 rows x 4 columns]"
            ]
          },
          "metadata": {
            "tags": []
          },
          "execution_count": 44
        }
      ]
    },
    {
      "cell_type": "code",
      "metadata": {
        "id": "p2vtcyS8Hxg7",
        "colab": {
          "base_uri": "https://localhost:8080/"
        },
        "outputId": "ded41e02-4484-409d-8228-fed4af709587"
      },
      "source": [
        "#concatenating the positive and negative labelled dataset to get the final labelled dataset.\n",
        "all_data_with_labels=pd.concat([all_dataset,negative_labels],axis=0)\n",
        "all_data_with_labels.shape"
      ],
      "execution_count": null,
      "outputs": [
        {
          "output_type": "execute_result",
          "data": {
            "text/plain": [
              "(59504, 4)"
            ]
          },
          "metadata": {
            "tags": []
          },
          "execution_count": 45
        }
      ]
    },
    {
      "cell_type": "code",
      "metadata": {
        "id": "8x4Wp5-soyvT"
      },
      "source": [
        "#splitting the data into train and validation\n",
        "from sklearn.model_selection import train_test_split\n",
        "train, validation = train_test_split(all_data_with_labels, test_size=0.2,random_state=42,shuffle=True,stratify=all_data_with_labels.label)"
      ],
      "execution_count": null,
      "outputs": []
    },
    {
      "cell_type": "code",
      "metadata": {
        "id": "plM6NT4YjOGB"
      },
      "source": [
        "#saving train and validation data to disk\n",
        "train.to_csv('train_data_chatbot.csv',index=False)\n",
        "validation.to_csv('validation_data_chatbot.csv',index=False)"
      ],
      "execution_count": null,
      "outputs": []
    },
    {
      "cell_type": "code",
      "metadata": {
        "id": "fzPQqs07bKvr",
        "colab": {
          "base_uri": "https://localhost:8080/"
        },
        "outputId": "c1b00d12-5767-444e-92f1-65636d2ca3c0"
      },
      "source": [
        "cd '/content/gdrive/MyDrive/chatbot'"
      ],
      "execution_count": null,
      "outputs": [
        {
          "output_type": "stream",
          "text": [
            "/content/gdrive/MyDrive/chatbot\n"
          ],
          "name": "stdout"
        }
      ]
    },
    {
      "cell_type": "code",
      "metadata": {
        "id": "yIJrhKcSjita"
      },
      "source": [
        "#loading train and validation data from disk\n",
        "import pandas as pd\n",
        "train=pd.read_csv('train_data_chatbot.csv')\n",
        "validation=pd.read_csv('validation_data_chatbot.csv')"
      ],
      "execution_count": null,
      "outputs": []
    },
    {
      "cell_type": "code",
      "metadata": {
        "id": "b-HvQhGsq2B3",
        "colab": {
          "base_uri": "https://localhost:8080/"
        },
        "outputId": "dfbb6ad9-3c6d-4673-dde1-e6e996db8ec5"
      },
      "source": [
        "#displaying the train label counts\n",
        "train.label.value_counts()"
      ],
      "execution_count": null,
      "outputs": [
        {
          "output_type": "execute_result",
          "data": {
            "text/plain": [
              " 1.0    23802\n",
              "-1.0    23801\n",
              "Name: label, dtype: int64"
            ]
          },
          "metadata": {
            "tags": []
          },
          "execution_count": 11
        }
      ]
    },
    {
      "cell_type": "code",
      "metadata": {
        "id": "b8JPBVJRq5yP",
        "colab": {
          "base_uri": "https://localhost:8080/"
        },
        "outputId": "05757e89-c443-488b-8d7a-83975e9cd91f"
      },
      "source": [
        "#displaying the validation label counts\n",
        "validation.label.value_counts()"
      ],
      "execution_count": null,
      "outputs": [
        {
          "output_type": "execute_result",
          "data": {
            "text/plain": [
              "-1.0    5951\n",
              " 1.0    5950\n",
              "Name: label, dtype: int64"
            ]
          },
          "metadata": {
            "tags": []
          },
          "execution_count": 12
        }
      ]
    },
    {
      "cell_type": "code",
      "metadata": {
        "id": "m8nA3arJrEL0",
        "colab": {
          "base_uri": "https://localhost:8080/",
          "height": 202
        },
        "outputId": "5e035670-4fa0-4f2f-db9c-54780bae45e7"
      },
      "source": [
        "#displaying the train dataset\n",
        "train.head(5)"
      ],
      "execution_count": null,
      "outputs": [
        {
          "output_type": "execute_result",
          "data": {
            "text/html": [
              "<div>\n",
              "<style scoped>\n",
              "    .dataframe tbody tr th:only-of-type {\n",
              "        vertical-align: middle;\n",
              "    }\n",
              "\n",
              "    .dataframe tbody tr th {\n",
              "        vertical-align: top;\n",
              "    }\n",
              "\n",
              "    .dataframe thead th {\n",
              "        text-align: right;\n",
              "    }\n",
              "</style>\n",
              "<table border=\"1\" class=\"dataframe\">\n",
              "  <thead>\n",
              "    <tr style=\"text-align: right;\">\n",
              "      <th></th>\n",
              "      <th>short_question</th>\n",
              "      <th>short_answer</th>\n",
              "      <th>tags</th>\n",
              "      <th>label</th>\n",
              "    </tr>\n",
              "  </thead>\n",
              "  <tbody>\n",
              "    <tr>\n",
              "      <th>0</th>\n",
              "      <td>can an antibiotic through an iv give you a ras...</td>\n",
              "      <td>yes it can even after you have finished the pr...</td>\n",
              "      <td>['rash' 'antibiotic']</td>\n",
              "      <td>1.0</td>\n",
              "    </tr>\n",
              "    <tr>\n",
              "      <th>1</th>\n",
              "      <td>can you test positive from having the hep b va...</td>\n",
              "      <td>test positive for what if you had a hep b vacc...</td>\n",
              "      <td>['hepatitis b']</td>\n",
              "      <td>1.0</td>\n",
              "    </tr>\n",
              "    <tr>\n",
              "      <th>2</th>\n",
              "      <td>what are the dietary restrictions for celiac d...</td>\n",
              "      <td>omitting gluten from the diet is the key to co...</td>\n",
              "      <td>['celiac disease']</td>\n",
              "      <td>1.0</td>\n",
              "    </tr>\n",
              "    <tr>\n",
              "      <th>3</th>\n",
              "      <td>can i transmit genital warts seventeen years a...</td>\n",
              "      <td>the medical provider is quite skilled at smell...</td>\n",
              "      <td>['wart']</td>\n",
              "      <td>-1.0</td>\n",
              "    </tr>\n",
              "    <tr>\n",
              "      <th>4</th>\n",
              "      <td>is all vitamin d the same</td>\n",
              "      <td>ok they do say its best to take a regular time...</td>\n",
              "      <td>['vitamin d']</td>\n",
              "      <td>-1.0</td>\n",
              "    </tr>\n",
              "  </tbody>\n",
              "</table>\n",
              "</div>"
            ],
            "text/plain": [
              "                                      short_question  ... label\n",
              "0  can an antibiotic through an iv give you a ras...  ...   1.0\n",
              "1  can you test positive from having the hep b va...  ...   1.0\n",
              "2  what are the dietary restrictions for celiac d...  ...   1.0\n",
              "3  can i transmit genital warts seventeen years a...  ...  -1.0\n",
              "4                          is all vitamin d the same  ...  -1.0\n",
              "\n",
              "[5 rows x 4 columns]"
            ]
          },
          "metadata": {
            "tags": []
          },
          "execution_count": 13
        }
      ]
    },
    {
      "cell_type": "code",
      "metadata": {
        "id": "n8pEmCpjopbR"
      },
      "source": [
        "#extracting the short answers and questions from the train data\n",
        "questions=train['short_question']\n",
        "answers=train['short_answer']\n",
        "labels=train['label']"
      ],
      "execution_count": null,
      "outputs": []
    },
    {
      "cell_type": "code",
      "metadata": {
        "id": "fM_sxjh07Y4m"
      },
      "source": [
        "#https://blog.tensorflow.org/2019/05/transformer-chatbot-tutorial-with-tensorflow-2.html\n",
        "#Setting Max_length to be 512 as discussed above\n",
        "MAX_LENGTH = 512\n",
        "import tensorflow as tf\n",
        "\n",
        "\n",
        "# Tokenize, filter and pad sentences\n",
        "def tokenize_and_filter(questions, answers):\n",
        "  tokenized_questions, tokenized_answers = [], []\n",
        "  \n",
        "  for (question, answer) in zip(questions, answers):\n",
        "    # generating sequences\n",
        "    tokenized_question =  biobert_tokenizer.encode(question)\n",
        "    tokenized_answer = biobert_tokenizer.encode(answer)\n",
        "    tokenized_questions.append(tokenized_question)\n",
        "    tokenized_answers.append(tokenized_answer)\n",
        "\n",
        "  # padding the sequences\n",
        "  tokenized_questions = tf.keras.preprocessing.sequence.pad_sequences(\n",
        "      tokenized_questions, maxlen=MAX_LENGTH, padding='post')\n",
        "  tokenized_answers = tf.keras.preprocessing.sequence.pad_sequences(\n",
        "      tokenized_answers, maxlen=MAX_LENGTH, padding='post')\n",
        "  \n",
        "  return tokenized_questions, tokenized_answers\n",
        "\n",
        "#tokenizing and padding the train questions and answers\n",
        "questions, answers = tokenize_and_filter(questions, answers)"
      ],
      "execution_count": null,
      "outputs": []
    },
    {
      "cell_type": "code",
      "metadata": {
        "id": "l96mxgOvsK3d"
      },
      "source": [
        "#preparing the question mask and the answer mask of the train dataset\n",
        "train_question_mask=[[1 if token!=0 else 0 for token in question] for question in questions]\n",
        "train_answer_mask=[[1 if token!=0 else 0 for token in answer] for answer in answers]"
      ],
      "execution_count": null,
      "outputs": []
    },
    {
      "cell_type": "code",
      "metadata": {
        "id": "5zNNQ_LCsw7v"
      },
      "source": [
        "#extracting the short answers and questions from the validation data\n",
        "val_questions=validation['short_question']\n",
        "val_answers=validation['short_answer']\n",
        "val_labels=validation['label']"
      ],
      "execution_count": null,
      "outputs": []
    },
    {
      "cell_type": "code",
      "metadata": {
        "id": "_PTj_QQZwgrw"
      },
      "source": [
        "#tokenizing and padding the validation question and answers\n",
        "val_questions, val_answers = tokenize_and_filter(val_questions, val_answers)"
      ],
      "execution_count": null,
      "outputs": []
    },
    {
      "cell_type": "code",
      "metadata": {
        "id": "9DeYILgntIPx"
      },
      "source": [
        "#preparing the question and answer mask for the validation data\n",
        "val_question_mask=[[1 if token!=0 else 0 for token in question] for question in val_questions]\n",
        "val_answer_mask=[[1 if token!=0 else 0 for token in answer] for answer in val_answers]"
      ],
      "execution_count": null,
      "outputs": []
    },
    {
      "cell_type": "code",
      "metadata": {
        "id": "oI0ZlSnAmPMX"
      },
      "source": [
        "#https://blog.tensorflow.org/2019/05/transformer-chatbot-tutorial-with-tensorflow-2.html\n",
        "#preparing the training  dataset\n",
        "import tensorflow as tf\n",
        "BATCH_SIZE = 2\n",
        "BUFFER_SIZE = 20000\n",
        "dataset = tf.data.Dataset.from_tensor_slices((\n",
        "    {\n",
        "        'question': questions,\n",
        "        'answer': answers,\n",
        "        'question_mask':train_question_mask,\n",
        "        'answer_mask':train_answer_mask\n",
        "    },\n",
        "    {\n",
        "        'label': labels.values\n",
        "    },\n",
        "))\n",
        "\n",
        "# dataset = dataset.cache()\n",
        "dataset = dataset.shuffle(BUFFER_SIZE)\n",
        "dataset = dataset.batch(BATCH_SIZE,drop_remainder=True)\n",
        "dataset = dataset.prefetch(tf.data.experimental.AUTOTUNE)"
      ],
      "execution_count": null,
      "outputs": []
    },
    {
      "cell_type": "code",
      "metadata": {
        "id": "g0NMmnZZus-J"
      },
      "source": [
        "#https://blog.tensorflow.org/2019/05/transformer-chatbot-tutorial-with-tensorflow-2.html\n",
        "#preparing the validation dataset\n",
        "import tensorflow as tf\n",
        "BATCH_SIZE = 2\n",
        "BUFFER_SIZE = 20000\n",
        "val_dataset = tf.data.Dataset.from_tensor_slices((\n",
        "    {\n",
        "        'question': val_questions,\n",
        "        'answer': val_answers,\n",
        "        'question_mask':val_question_mask,\n",
        "        'answer_mask':val_answer_mask\n",
        "    },\n",
        "    {\n",
        "        'label': val_labels.values\n",
        "    },\n",
        "))\n",
        "\n",
        "val_dataset = val_dataset.cache()\n",
        "val_dataset = val_dataset.shuffle(BUFFER_SIZE)\n",
        "val_dataset = val_dataset.batch(BATCH_SIZE,drop_remainder=True)\n",
        "val_dataset = val_dataset.prefetch(tf.data.experimental.AUTOTUNE)"
      ],
      "execution_count": null,
      "outputs": []
    },
    {
      "cell_type": "code",
      "metadata": {
        "id": "qCYWGqGdIb0z"
      },
      "source": [
        "#creating the ffn layer \n",
        "#https://github.com/ash3n/DocProduct/blob/master/docproduct/models.py\n",
        "import tensorflow as tf\n",
        "from tensorflow.keras import Sequential\n",
        "from tensorflow.keras.layers import Input,Dense\n",
        "from tensorflow.keras.layers import Flatten\n",
        "from tensorflow.keras.layers import Embedding\n",
        "from tensorflow.keras.layers import Concatenate,Conv1D,MaxPool1D,Dropout\n",
        "class FFN(tf.keras.layers.Layer):\n",
        "    def __init__(\n",
        "            self,\n",
        "            name='FFN',\n",
        "            **kwargs):\n",
        "        \"\"\"Simple Dense wrapped with various layers\n",
        "        \"\"\"\n",
        "\n",
        "        super(FFN, self).__init__(name=name, **kwargs)\n",
        "        self.dropout = 0.2\n",
        "        self.ffn_layer = tf.keras.layers.Dense(\n",
        "            units=768,\n",
        "            activation='relu',\n",
        "            kernel_initializer=tf.keras.initializers.glorot_normal(seed=32),name='FC1')\n",
        "        \n",
        "\n",
        "    def call(self, inputs):\n",
        "        ffn_embedding = self.ffn_layer(inputs)\n",
        "        ffn_embedding = tf.keras.layers.Dropout(\n",
        "            self.dropout)(ffn_embedding)\n",
        "        ffn_embedding += inputs\n",
        "        return ffn_embedding"
      ],
      "execution_count": null,
      "outputs": []
    },
    {
      "cell_type": "code",
      "metadata": {
        "id": "caTvGEWyGM0m",
        "colab": {
          "base_uri": "https://localhost:8080/"
        },
        "outputId": "cf0a8d35-bc93-4fa6-d5c1-30041f81f470"
      },
      "source": [
        "#displaying the biobert model summary\n",
        "biobert_model.summary()"
      ],
      "execution_count": null,
      "outputs": [
        {
          "output_type": "stream",
          "text": [
            "Model: \"tf_bert_model_1\"\n",
            "_________________________________________________________________\n",
            "Layer (type)                 Output Shape              Param #   \n",
            "=================================================================\n",
            "bert (TFBertMainLayer)       multiple                  108310272 \n",
            "=================================================================\n",
            "Total params: 108,310,272\n",
            "Trainable params: 108,310,272\n",
            "Non-trainable params: 0\n",
            "_________________________________________________________________\n"
          ],
          "name": "stdout"
        }
      ]
    },
    {
      "cell_type": "code",
      "metadata": {
        "id": "JeKjj1Ak2u1U"
      },
      "source": [
        "#creating the medicalbert model\n",
        "#https://github.com/ash3n/DocProduct/blob/master/docproduct/models.py\n",
        "class MedicalQAModelwithBert(tf.keras.Model):\n",
        "    def __init__(\n",
        "            self,\n",
        "            trainable=False,\n",
        "            name=''):\n",
        "        super(MedicalQAModelwithBert, self).__init__(name=name)\n",
        "\n",
        "        self.q_ffn_layer = FFN(name='q_ffn')\n",
        "        self.a_ffn_layer = FFN(name='a_ffn')\n",
        "        self.biobert_model=biobert_model\n",
        "        self.biobert_model.trainable=trainable\n",
        "        self.cos=tf.keras.layers.Dot(axes=1,normalize=True)\n",
        "\n",
        "    def call(self, inputs):\n",
        "      question_embeddings=self.biobert_model(input_ids=inputs['question'],attention_mask=inputs['question_mask']).pooler_output\n",
        "      answer_embeddings=self.biobert_model(input_ids=inputs['answer'],attention_mask=inputs['answer_mask']).pooler_output\n",
        "      q_ffnn=self.q_ffn_layer(question_embeddings)\n",
        "      a_ffnn=self.a_ffn_layer(answer_embeddings)\n",
        "      output=self.cos([q_ffnn,a_ffnn])\n",
        "      return {\"label\":output}"
      ],
      "execution_count": null,
      "outputs": []
    },
    {
      "cell_type": "code",
      "metadata": {
        "id": "_CNcV-orOJi9"
      },
      "source": [
        "#defining custom callback\n",
        "class custom_callback(tf.keras.callbacks.Callback):\n",
        "  def on_train_begin(self, logs={}):\n",
        "        ## on begin of training, we are creating a instance varible called history\n",
        "        ## it is a dict with keys [loss, acc, val_loss, val_acc]\n",
        "        self.history={'acc': []}\n",
        "\n",
        "  def on_epoch_end(self, epoch, logs={}):\n",
        "        self.history['acc'].append(logs.get('custom_metric_acc'))\n",
        "  \n",
        "\n",
        "\n",
        "        #saving the model if validation accuracy increased from previous epoch\n",
        "        if  (epoch==0) or (logs.get('custom_metric_acc')>self.history['acc'][epoch-1]):\n",
        "          self.model.save_weights('medical_bert_re'+str(epoch)+'/medic'+str(epoch)+'_'+str(logs.get('custom_metric_acc')))\n",
        "\n",
        "\n",
        "        is_nan_values=[]\n",
        "        for i in self.model.get_weights():\n",
        "          is_nan_values.append(np.isnan(i).any())\n",
        "\n",
        "        #stopping the training if weights is nan or loss is nan or inf\n",
        "        if (np.array(is_nan_values).any() or (tf.math.is_nan(logs.get('loss'))) or (np.isinf(logs.get('loss')))):\n",
        "          self.model.stop_training = True\n",
        "\n",
        "        \n",
        "        \n",
        "      \n",
        "        \n",
        " "
      ],
      "execution_count": null,
      "outputs": []
    },
    {
      "cell_type": "code",
      "metadata": {
        "id": "YUcl_A1r9p8N"
      },
      "source": [
        "#defining the custom metric\n",
        "batch_size=2\n",
        "def custom_metric_acc(y_true,y_pred):\n",
        "  y_true=tf.reshape(y_true,[tf.constant(batch_size)])\n",
        "  y_pred=tf.reshape(y_pred,[tf.constant(batch_size)])\n",
        "  c=tf.constant(0,dtype='float32')\n",
        "  d=tf.cast(tf.math.greater_equal(y_true,c),dtype='float32')\n",
        "  e=tf.cast(tf.math.greater_equal(y_pred,c),dtype='float32')\n",
        "  f=tf.cast(tf.math.equal(d,e),dtype='float32')\n",
        "  g=tf.reduce_sum(f)\n",
        "  h=tf.cast(tf.shape(f),dtype='float32')\n",
        "  i=g/h\n",
        "  return i"
      ],
      "execution_count": null,
      "outputs": []
    },
    {
      "cell_type": "code",
      "metadata": {
        "id": "TP5fKERFYzd1"
      },
      "source": [
        "import numpy as np"
      ],
      "execution_count": null,
      "outputs": []
    },
    {
      "cell_type": "code",
      "metadata": {
        "id": "DA_Xuyn9lbJ1",
        "colab": {
          "base_uri": "https://localhost:8080/"
        },
        "outputId": "0868c4d0-189f-4fd2-ddf5-589e4ae83741"
      },
      "source": [
        "#compiling and training the medical qa model\n",
        "import tensorflow.keras.backend as K\n",
        "K.set_floatx('float32')\n",
        "learning_rate=5e-6\n",
        "num_epochs=2\n",
        "optimizer = tf.keras.optimizers.Adam(lr=learning_rate)\n",
        "medical_qa_model=MedicalQAModelwithBert(trainable=True)\n",
        "medical_qa_model.compile(\n",
        "    optimizer=optimizer, loss=tf.keras.losses.mean_squared_error, metrics=[custom_metric_acc])\n",
        "\n",
        "epochs = num_epochs\n",
        "\n",
        "medical_qa_model.fit(dataset,validation_data=val_dataset,epochs=epochs,callbacks=[custom_callback()])\n",
        "medical_qa_model.summary()"
      ],
      "execution_count": null,
      "outputs": [
        {
          "output_type": "stream",
          "text": [
            "/usr/local/lib/python3.7/dist-packages/tensorflow/python/keras/optimizer_v2/optimizer_v2.py:375: UserWarning: The `lr` argument is deprecated, use `learning_rate` instead.\n",
            "  \"The `lr` argument is deprecated, use `learning_rate` instead.\")\n"
          ],
          "name": "stderr"
        },
        {
          "output_type": "stream",
          "text": [
            "Epoch 1/2\n",
            "WARNING:tensorflow:The parameters `output_attentions`, `output_hidden_states` and `use_cache` cannot be updated when calling a model.They have to be set to True/False in the config object (i.e.: `config=XConfig.from_pretrained('name', output_attentions=True)`).\n",
            "WARNING:tensorflow:AutoGraph could not transform <bound method Socket.send of <zmq.sugar.socket.Socket object at 0x7f630598ee50>> and will run it as-is.\n",
            "Please report this to the TensorFlow team. When filing the bug, set the verbosity to 10 (on Linux, `export AUTOGRAPH_VERBOSITY=10`) and attach the full output.\n",
            "Cause: module, class, method, function, traceback, frame, or code object was expected, got cython_function_or_method\n",
            "To silence this warning, decorate the function with @tf.autograph.experimental.do_not_convert\n",
            "WARNING: AutoGraph could not transform <bound method Socket.send of <zmq.sugar.socket.Socket object at 0x7f630598ee50>> and will run it as-is.\n",
            "Please report this to the TensorFlow team. When filing the bug, set the verbosity to 10 (on Linux, `export AUTOGRAPH_VERBOSITY=10`) and attach the full output.\n",
            "Cause: module, class, method, function, traceback, frame, or code object was expected, got cython_function_or_method\n",
            "To silence this warning, decorate the function with @tf.autograph.experimental.do_not_convert\n",
            "WARNING:tensorflow:AutoGraph could not transform <function wrap at 0x7f632123ddd0> and will run it as-is.\n",
            "Cause: while/else statement not yet supported\n",
            "To silence this warning, decorate the function with @tf.autograph.experimental.do_not_convert\n",
            "WARNING: AutoGraph could not transform <function wrap at 0x7f632123ddd0> and will run it as-is.\n",
            "Cause: while/else statement not yet supported\n",
            "To silence this warning, decorate the function with @tf.autograph.experimental.do_not_convert\n",
            "WARNING:tensorflow:The parameter `return_dict` cannot be set in graph mode and will always be set to `True`.\n",
            "WARNING:tensorflow:From /usr/local/lib/python3.7/dist-packages/tensorflow/python/ops/array_ops.py:5049: calling gather (from tensorflow.python.ops.array_ops) with validate_indices is deprecated and will be removed in a future version.\n",
            "Instructions for updating:\n",
            "The `validate_indices` argument has no effect. Indices are always validated on CPU and never validated on GPU.\n",
            "WARNING:tensorflow:The parameters `output_attentions`, `output_hidden_states` and `use_cache` cannot be updated when calling a model.They have to be set to True/False in the config object (i.e.: `config=XConfig.from_pretrained('name', output_attentions=True)`).\n",
            "WARNING:tensorflow:The parameter `return_dict` cannot be set in graph mode and will always be set to `True`.\n",
            "WARNING:tensorflow:The parameters `output_attentions`, `output_hidden_states` and `use_cache` cannot be updated when calling a model.They have to be set to True/False in the config object (i.e.: `config=XConfig.from_pretrained('name', output_attentions=True)`).\n",
            "WARNING:tensorflow:The parameter `return_dict` cannot be set in graph mode and will always be set to `True`.\n",
            "WARNING:tensorflow:The parameters `output_attentions`, `output_hidden_states` and `use_cache` cannot be updated when calling a model.They have to be set to True/False in the config object (i.e.: `config=XConfig.from_pretrained('name', output_attentions=True)`).\n",
            "WARNING:tensorflow:The parameter `return_dict` cannot be set in graph mode and will always be set to `True`.\n",
            "19154/23801 [=======================>......] - ETA: 55:54 - loss: 0.8208 - custom_metric_acc: 0.6820"
          ],
          "name": "stdout"
        }
      ]
    },
    {
      "cell_type": "markdown",
      "metadata": {
        "id": "WW2nRcvXdBxX"
      },
      "source": [
        "**Evaluating the model with the best train accuracy**\n",
        "\n",
        "\n"
      ]
    },
    {
      "cell_type": "code",
      "metadata": {
        "id": "v-YKFustkH4_"
      },
      "source": [
        "import tensorflow.keras.backend as K\n",
        "K.set_floatx('float32')\n",
        "medical_qa_model=MedicalQAModelwithBert(trainable=True)\n",
        "medical_qa_model.load_weights('./medical_bert_re3/medic3_0.9177975654602051')\n",
        "learning_rate=5e-6\n",
        "optimizer = tf.keras.optimizers.Adam(lr=learning_rate)\n",
        "medical_qa_model.compile(\n",
        "    optimizer=optimizer, loss=tf.keras.losses.mean_squared_error, metrics=[custom_metric_acc])\n",
        "\n",
        "# original_labels=[]\n",
        "predicted_labels=[]\n",
        "from tqdm.notebook import tqdm\n",
        "for i in tqdm(range(len(val_questions))):\n",
        "  predicted_labels.append(medical_qa_model.predict({'question':np.array([val_questions[i]]),'question_mask':np.array([val_question_mask[i]]),\n",
        "                             'answer':np.array([val_answers[i]]),'answer_mask':np.array([val_answer_mask[i]])})['label'][0][0])\n"
      ],
      "execution_count": null,
      "outputs": []
    },
    {
      "cell_type": "code",
      "metadata": {
        "id": "49QC8iuekx7Y"
      },
      "source": [
        "#defining function to return accuracy, correctly predicted positive points and correctly predicted negative points\n",
        "def acc_threshold(predicted_labels,threshold):\n",
        "  correct_pred_pos=[]\n",
        "  correct_pred_neg=[]\n",
        "  for i in range(len(predicted_labels)):\n",
        "    if predicted_labels[i]<threshold and val_labels[i]==-1:\n",
        "      correct_pred_neg.append(predicted_labels[i])\n",
        "    elif predicted_labels[i]>=threshold and val_labels[i]==1:\n",
        "      correct_pred_pos.append(predicted_labels[i])\n",
        "  acc=len(correct_pred_pos+correct_pred_neg)/len(predicted_labels)\n",
        "  print('accuracy for threshold',threshold,'is',acc)\n",
        "  return (acc,correct_pred_pos,correct_pred_neg)\n",
        "\n"
      ],
      "execution_count": null,
      "outputs": []
    },
    {
      "cell_type": "code",
      "metadata": {
        "id": "kYLCHYb4kIH2"
      },
      "source": [
        "#function to print the best accuracy and the threshold at which it is occuring\n",
        "def best_threshold_acc(predicted_labels):\n",
        "  acc=[]\n",
        "  thresholds=np.array(range(-10,11,1))*0.1\n",
        "  for i in tqdm(range(-10,11,1)):\n",
        "    acc.append(acc_threshold(predicted_labels,i*0.1)[0])\n",
        "  print('best accuracy is',max(acc),'at threshold',thresholds[np.argmax(acc)])"
      ],
      "execution_count": null,
      "outputs": []
    },
    {
      "cell_type": "code",
      "metadata": {
        "id": "Nkitrg69iDti"
      },
      "source": [
        "#find best threshold and accuracy of the model with best train accuracy on validation data\n",
        "best_threshold_acc(predicted_labels)"
      ],
      "execution_count": null,
      "outputs": []
    },
    {
      "cell_type": "code",
      "metadata": {
        "id": "sGkNcnlOkIUx"
      },
      "source": [
        "#displaying the pdf of correctly predicted positive and negative points\n",
        "import seaborn as sns\n",
        "_,correct_pred_pos,correct_pred_neg=acc_threshold(predicted_labels,0.2)\n",
        "sns.distplot(correct_pred_pos)\n",
        "sns.distplot(correct_pred_neg)"
      ],
      "execution_count": null,
      "outputs": []
    },
    {
      "cell_type": "markdown",
      "metadata": {
        "id": "msmnYhSYkC2F"
      },
      "source": [
        "**Evaluating the model with best validation accuracy**\n"
      ]
    },
    {
      "cell_type": "code",
      "metadata": {
        "id": "dNOTW1qCh3mI"
      },
      "source": [
        "#evaluating the model on validation data\n",
        "import warnings\n",
        "warnings.filterwarnings('ignore')\n",
        "import tensorflow.keras.backend as K\n",
        "import tensorflow as tf\n",
        "import numpy as np\n",
        "K.set_floatx('float32')\n",
        "medical_qa_model=MedicalQAModelwithBert(trainable=False)\n",
        "medical_qa_model.load_weights('./medical_bert_re1/medic1_0.8643124103546143')\n",
        "learning_rate=5e-6\n",
        "optimizer = tf.keras.optimizers.Adam(lr=learning_rate)\n",
        "predicted_labels=[]\n",
        "from tqdm.notebook import tqdm\n",
        "for i in tqdm(range(len(val_questions))):\n",
        "  predicted_labels.append(medical_qa_model.predict({'question':np.array([val_questions[i]]),'question_mask':np.array([val_question_mask[i]]),\n",
        "                             'answer':np.array([val_answers[i]]),'answer_mask':np.array([val_answer_mask[i]])})['label'][0][0])\n"
      ],
      "execution_count": null,
      "outputs": []
    },
    {
      "cell_type": "code",
      "metadata": {
        "id": "LIgqQUAEkSL-"
      },
      "source": [
        "#finding the best accuracy and the corresponding threshold of the model of best validation accuracy\n",
        "best_threshold_acc(predicted_labels)"
      ],
      "execution_count": null,
      "outputs": []
    },
    {
      "cell_type": "code",
      "metadata": {
        "id": "PZlF3UKNpwWX"
      },
      "source": [
        "train_predicted_labels=[]\n",
        "for i in tqdm(range(len(questions))):\n",
        "  train_predicted_labels.append(medical_qa_model.predict({'question':np.array([questions[i]]),'question_mask':np.array([train_question_mask[i]]),\n",
        "                             'answer':np.array([answers[i]]),'answer_mask':np.array([train_answer_mask[i]])})['label'][0][0])\n"
      ],
      "execution_count": null,
      "outputs": []
    },
    {
      "cell_type": "code",
      "metadata": {
        "id": "h4fCUI5F7__P"
      },
      "source": [
        "#defining function to return accuracy, correctly predicted positive points and correctly predicted negative points for train data\n",
        "def train_acc_threshold(predicted_labels,threshold):\n",
        "  correct_pred_pos=[]\n",
        "  correct_pred_neg=[]\n",
        "  for i in range(len(predicted_labels)):\n",
        "    if predicted_labels[i]<threshold and labels[i]==-1:\n",
        "      correct_pred_neg.append(predicted_labels[i])\n",
        "    elif predicted_labels[i]>=threshold and labels[i]==1:\n",
        "      correct_pred_pos.append(predicted_labels[i])\n",
        "  acc=len(correct_pred_pos+correct_pred_neg)/len(predicted_labels)\n",
        "  print('accuracy for threshold',threshold,'is',acc)\n",
        "  return (acc,correct_pred_pos,correct_pred_neg)\n",
        "\n"
      ],
      "execution_count": null,
      "outputs": []
    },
    {
      "cell_type": "code",
      "metadata": {
        "id": "JreAfqxz8XaS"
      },
      "source": [
        "#function to print the best accuracy and the threshold at which it is occuring for train points\n",
        "def train_best_threshold_acc(predicted_labels):\n",
        "  acc=[]\n",
        "  thresholds=np.array(range(-10,11,1))*0.1\n",
        "  for i in tqdm(range(-10,11,1)):\n",
        "    acc.append(train_acc_threshold(predicted_labels,i*0.1)[0])\n",
        "  print('best accuracy is',max(acc),'at threshold',thresholds[np.argmax(acc)])"
      ],
      "execution_count": null,
      "outputs": []
    },
    {
      "cell_type": "code",
      "metadata": {
        "id": "pVaiokPU8co1"
      },
      "source": [
        "train_best_threshold_acc(train_predicted_labels)"
      ],
      "execution_count": null,
      "outputs": []
    },
    {
      "cell_type": "code",
      "metadata": {
        "id": "XukcnuAYlSxS"
      },
      "source": [
        "#plotting the pdf of correctly predicted positive and negative points\n",
        "import matplotlib.pyplot as plt\n",
        "import seaborn as sns\n",
        "_,correct_pred_pos,correct_pred_neg=acc_threshold(predicted_labels,0.3)\n",
        "sns.distplot(correct_pred_pos,label='positive')\n",
        "sns.distplot(correct_pred_neg,label='negative')\n",
        "plt.title('Correctly predicted points')\n",
        "plt.legend()\n",
        "plt.show()\n"
      ],
      "execution_count": null,
      "outputs": []
    },
    {
      "cell_type": "code",
      "metadata": {
        "id": "ryZAn-B7Wuze"
      },
      "source": [
        "#finding incorrectly predicted positive and negative points\n",
        "incorrect_pos=[]\n",
        "incorrect_neg=[]\n",
        "for i in range(len(val_labels)):\n",
        "  if val_labels[i]==1 and predicted_labels[i]<0.3:\n",
        "    incorrect_pos.append(predicted_labels[i])\n",
        "  elif val_labels[i]==-1 and predicted_labels[i]>=0.3:\n",
        "    incorrect_neg.append(predicted_labels[i])"
      ],
      "execution_count": null,
      "outputs": []
    },
    {
      "cell_type": "code",
      "metadata": {
        "id": "odx1gXJskxr-"
      },
      "source": [
        "#plotting the pdf of model predicted similarities for incorrectly predicted positive and negative points\n",
        "sns.distplot(incorrect_pos,label='positive')\n",
        "sns.distplot(incorrect_neg,label='negative')\n",
        "plt.title('Incorrectly predicted points')\n",
        "plt.legend()\n",
        "plt.show()"
      ],
      "execution_count": null,
      "outputs": []
    },
    {
      "cell_type": "markdown",
      "metadata": {
        "id": "2JJcXVU_okR5"
      },
      "source": [
        "**Observation from Plots**"
      ]
    },
    {
      "cell_type": "markdown",
      "metadata": {
        "id": "VQPLV9aqos25"
      },
      "source": [
        "From the above plots we can observe that most of the correctly classified points are well seperated and  even though accuracy is about 89% on validation data, most of the misclassified points lie within the threshold of 0.3"
      ]
    },
    {
      "cell_type": "markdown",
      "metadata": {
        "id": "uRku9icXpWHN"
      },
      "source": [
        "Since we got the best train and validation accuracy using this model, we will use this model to extract the question and answer embeddings"
      ]
    },
    {
      "cell_type": "markdown",
      "metadata": {
        "id": "OKxnWK3Go-O-"
      },
      "source": [
        "**Embedding extraction using the model**"
      ]
    },
    {
      "cell_type": "code",
      "metadata": {
        "id": "qqUvzH-bzqlT",
        "colab": {
          "base_uri": "https://localhost:8080/"
        },
        "outputId": "806b0a5e-78ef-419f-c3aa-9ba170db3bd9"
      },
      "source": [
        "#loading the trained medical bert model from above checkpoint\n",
        "medical_qa_model=MedicalQAModelwithBert(trainable=True)\n",
        "medical_qa_model.load_weights('/content/gdrive/MyDrive/chatbot/medical_bert_re0/medic0_0.7040460705757141')"
      ],
      "execution_count": null,
      "outputs": [
        {
          "output_type": "execute_result",
          "data": {
            "text/plain": [
              "<tensorflow.python.training.tracking.util.CheckpointLoadStatus at 0x7fae101caa10>"
            ]
          },
          "metadata": {
            "tags": []
          },
          "execution_count": 11
        }
      ]
    },
    {
      "cell_type": "code",
      "metadata": {
        "id": "nIYYGdjw0NqD",
        "colab": {
          "base_uri": "https://localhost:8080/"
        },
        "outputId": "278d907c-fe0b-421d-e91a-d32788e17713"
      },
      "source": [
        "#defining the question extractor model\n",
        "x1=tf.keras.layers.Input((512),name='question',dtype='int64')\n",
        "x2=tf.keras.layers.Input((512),name='question_mask',dtype='int64')\n",
        "q_embed=medical_qa_model.get_layer('q_ffn')(medical_qa_model.get_layer('tf_bert_model').bert(input_ids=x1,attention_mask=x2,).pooler_output)\n",
        "question_extractor_model=tf.keras.Model(inputs=[x1,x2],outputs=q_embed)"
      ],
      "execution_count": null,
      "outputs": [
        {
          "output_type": "stream",
          "text": [
            "WARNING:tensorflow:From /usr/local/lib/python3.7/dist-packages/tensorflow/python/ops/array_ops.py:5049: calling gather (from tensorflow.python.ops.array_ops) with validate_indices is deprecated and will be removed in a future version.\n",
            "Instructions for updating:\n",
            "The `validate_indices` argument has no effect. Indices are always validated on CPU and never validated on GPU.\n"
          ],
          "name": "stdout"
        }
      ]
    },
    {
      "cell_type": "code",
      "metadata": {
        "id": "-cISX7x80etT",
        "colab": {
          "base_uri": "https://localhost:8080/"
        },
        "outputId": "d33d6636-b080-4881-93b6-32205351e092"
      },
      "source": [
        "#saving the question extractor model to disk\n",
        "question_extractor_model.save('question_extractor_model_2_11')"
      ],
      "execution_count": null,
      "outputs": [
        {
          "output_type": "stream",
          "text": [
            "WARNING:tensorflow:Compiled the loaded model, but the compiled metrics have yet to be built. `model.compile_metrics` will be empty until you train or evaluate the model.\n"
          ],
          "name": "stdout"
        },
        {
          "output_type": "stream",
          "text": [
            "WARNING:tensorflow:Compiled the loaded model, but the compiled metrics have yet to be built. `model.compile_metrics` will be empty until you train or evaluate the model.\n",
            "WARNING:absl:Found untraced functions such as embeddings_layer_call_fn, embeddings_layer_call_and_return_conditional_losses, encoder_layer_call_fn, encoder_layer_call_and_return_conditional_losses, pooler_layer_call_fn while saving (showing 5 of 1060). These functions will not be directly callable after loading.\n",
            "/usr/local/lib/python3.7/dist-packages/tensorflow/python/keras/utils/generic_utils.py:497: CustomMaskWarning: Custom mask layers require a config and must override get_config. When loading, the custom mask layer must be passed to the custom_objects argument.\n",
            "  category=CustomMaskWarning)\n"
          ],
          "name": "stderr"
        },
        {
          "output_type": "stream",
          "text": [
            "INFO:tensorflow:Assets written to: question_extractor_model_2_11/assets\n"
          ],
          "name": "stdout"
        },
        {
          "output_type": "stream",
          "text": [
            "INFO:tensorflow:Assets written to: question_extractor_model_2_11/assets\n"
          ],
          "name": "stderr"
        }
      ]
    },
    {
      "cell_type": "code",
      "metadata": {
        "id": "_T3yGx4e0N71",
        "colab": {
          "base_uri": "https://localhost:8080/"
        },
        "outputId": "b3130e2c-4de2-417b-c627-36256f5f5294"
      },
      "source": [
        "#loading the question extractor model from disk\n",
        "question_extractor_model=tf.keras.models.load_model('question_extractor_model_2_11')"
      ],
      "execution_count": null,
      "outputs": [
        {
          "output_type": "stream",
          "text": [
            "WARNING:tensorflow:No training configuration found in save file, so the model was *not* compiled. Compile it manually.\n"
          ],
          "name": "stdout"
        },
        {
          "output_type": "stream",
          "text": [
            "WARNING:tensorflow:No training configuration found in save file, so the model was *not* compiled. Compile it manually.\n"
          ],
          "name": "stderr"
        }
      ]
    },
    {
      "cell_type": "code",
      "metadata": {
        "id": "yII4QuEMzC_T"
      },
      "source": [
        "#function to extract embeddings given a question and a question mask\n",
        "def question_extractor(sam_dict):\n",
        "  q_embed=question_extractor_model({'question':sam_dict['question'],'question_mask':sam_dict['question_mask']})\n",
        "  return q_embed\n",
        "  "
      ],
      "execution_count": null,
      "outputs": []
    },
    {
      "cell_type": "code",
      "metadata": {
        "id": "-VepMKndTqBj"
      },
      "source": [
        "#defining function to extract question embeddings given question\n",
        "def extract_question_embed(question):\n",
        "  max_length=512\n",
        "  tokenized_questions=[]\n",
        "  tokenized_question =  biobert_tokenizer.encode(question)\n",
        "  tokenized_questions.append(tokenized_question)\n",
        "\n",
        "  # padding the sequences\n",
        "  tokenized_questions = tf.keras.preprocessing.sequence.pad_sequences(\n",
        "      tokenized_questions, maxlen=max_length, padding='post')\n",
        "  attention_mask=[[1 if token>0 else 0 for token in q] for q in tokenized_questions]\n",
        "  return question_extractor({'question':np.array(tokenized_questions),'question_mask':np.array(attention_mask)})"
      ],
      "execution_count": null,
      "outputs": []
    },
    {
      "cell_type": "code",
      "metadata": {
        "id": "PY_kWpsi2Z0e"
      },
      "source": [
        "#defining the answer extractor model\n",
        "x1=tf.keras.layers.Input((512),name='answer',dtype='int64')\n",
        "x2=tf.keras.layers.Input((512),name='answer_mask',dtype='int64')\n",
        "a_embed=medical_qa_model.get_layer('a_ffn')(medical_qa_model.get_layer('tf_bert_model').bert(input_ids=x1,attention_mask=x2,).pooler_output)\n",
        "answer_extractor_model=tf.keras.Model(inputs=[x1,x2],outputs=a_embed)"
      ],
      "execution_count": null,
      "outputs": []
    },
    {
      "cell_type": "code",
      "metadata": {
        "id": "PQojZvQt2klZ",
        "colab": {
          "base_uri": "https://localhost:8080/"
        },
        "outputId": "7fd9f0a4-ead1-4a75-b65e-33764427a7ba"
      },
      "source": [
        "#saving the answer extractor model to disk\n",
        "answer_extractor_model.save('answer_extractor_model_2_13')"
      ],
      "execution_count": null,
      "outputs": [
        {
          "output_type": "stream",
          "text": [
            "WARNING:tensorflow:Compiled the loaded model, but the compiled metrics have yet to be built. `model.compile_metrics` will be empty until you train or evaluate the model.\n"
          ],
          "name": "stdout"
        },
        {
          "output_type": "stream",
          "text": [
            "WARNING:tensorflow:Compiled the loaded model, but the compiled metrics have yet to be built. `model.compile_metrics` will be empty until you train or evaluate the model.\n",
            "WARNING:absl:Found untraced functions such as embeddings_layer_call_fn, embeddings_layer_call_and_return_conditional_losses, encoder_layer_call_fn, encoder_layer_call_and_return_conditional_losses, pooler_layer_call_fn while saving (showing 5 of 1060). These functions will not be directly callable after loading.\n",
            "/usr/local/lib/python3.7/dist-packages/tensorflow/python/keras/utils/generic_utils.py:497: CustomMaskWarning: Custom mask layers require a config and must override get_config. When loading, the custom mask layer must be passed to the custom_objects argument.\n",
            "  category=CustomMaskWarning)\n"
          ],
          "name": "stderr"
        },
        {
          "output_type": "stream",
          "text": [
            "INFO:tensorflow:Assets written to: answer_extractor_model_2_13/assets\n"
          ],
          "name": "stdout"
        },
        {
          "output_type": "stream",
          "text": [
            "INFO:tensorflow:Assets written to: answer_extractor_model_2_13/assets\n"
          ],
          "name": "stderr"
        }
      ]
    },
    {
      "cell_type": "code",
      "metadata": {
        "id": "s2p2U2Xm2soN",
        "colab": {
          "base_uri": "https://localhost:8080/"
        },
        "outputId": "c5c3110b-63de-4f18-aef7-a9cec10cdbb1"
      },
      "source": [
        "#loading the answer extractor model from disk\n",
        "answer_extractor_model=tf.keras.models.load_model('answer_extractor_model_2_13')"
      ],
      "execution_count": null,
      "outputs": [
        {
          "output_type": "stream",
          "text": [
            "WARNING:tensorflow:No training configuration found in save file, so the model was *not* compiled. Compile it manually.\n"
          ],
          "name": "stdout"
        },
        {
          "output_type": "stream",
          "text": [
            "WARNING:tensorflow:No training configuration found in save file, so the model was *not* compiled. Compile it manually.\n"
          ],
          "name": "stderr"
        }
      ]
    },
    {
      "cell_type": "code",
      "metadata": {
        "id": "wwPm-kMX2s5K"
      },
      "source": [
        "#function to extract embeddings given an answer and an answer mask\n",
        "def answer_extractor(sam_dict):\n",
        "  a_embed=answer_extractor_model({'answer':sam_dict['answer'],'answer_mask':sam_dict['answer_mask']})\n",
        "  return a_embed\n",
        "  "
      ],
      "execution_count": null,
      "outputs": []
    },
    {
      "cell_type": "code",
      "metadata": {
        "id": "n3tM8Ae0n45h"
      },
      "source": [
        "#defining function to extract answer embeddings\n",
        "def extract_answer_embed(answer):\n",
        "  max_length=512\n",
        "  tokenized_answers=[]\n",
        "  tokenized_answer =  biobert_tokenizer.encode(answer)\n",
        "  tokenized_answers.append(tokenized_answer)\n",
        "\n",
        "  # padding the sequences\n",
        "  tokenized_answers = tf.keras.preprocessing.sequence.pad_sequences(\n",
        "      tokenized_answers, maxlen=max_length, padding='post')\n",
        "  attention_mask=[[1 if token>0 else 0 for token in q] for q in tokenized_answers]\n",
        "  return answer_extractor({'answer':np.array(tokenized_answers),'answer_mask':np.array(attention_mask)})"
      ],
      "execution_count": null,
      "outputs": []
    },
    {
      "cell_type": "code",
      "metadata": {
        "id": "rOE9tabpZ5yH",
        "colab": {
          "base_uri": "https://localhost:8080/"
        },
        "outputId": "9497cd3e-ae54-46c5-f277-0fa5dc85468a"
      },
      "source": [
        "#extracting the original(without negative sampling) train dataset\n",
        "pos_train=train[train.label==1.0].copy()\n",
        "pos_train.shape"
      ],
      "execution_count": null,
      "outputs": [
        {
          "output_type": "execute_result",
          "data": {
            "text/plain": [
              "(23802, 4)"
            ]
          },
          "metadata": {
            "tags": []
          },
          "execution_count": 49
        }
      ]
    },
    {
      "cell_type": "code",
      "metadata": {
        "id": "tgExPOrKwbLm",
        "colab": {
          "base_uri": "https://localhost:8080/"
        },
        "outputId": "107ddc82-cdd5-4d54-954b-4dba125798a6"
      },
      "source": [
        "#extracting the original(without negative sampling) validation dataset\n",
        "pos_validation=validation[validation.label==1.0].copy()\n",
        "pos_validation.shape"
      ],
      "execution_count": null,
      "outputs": [
        {
          "output_type": "execute_result",
          "data": {
            "text/plain": [
              "(5950, 4)"
            ]
          },
          "metadata": {
            "tags": []
          },
          "execution_count": 50
        }
      ]
    },
    {
      "cell_type": "code",
      "metadata": {
        "id": "JWsZBU9VYa21",
        "colab": {
          "base_uri": "https://localhost:8080/",
          "height": 121,
          "referenced_widgets": [
            "a0cdd37daeb34bd7ac71a89db77a920b",
            "6bf4a8016ae9473187fe0d528db01979",
            "f71086dbccdd4c6980a4fbed2d25ea6c",
            "073f6ff9a86542fba68ed2b1e027c1d8",
            "49e0c8386b6743929775c245621b5108",
            "d8af93e4e56941ee943206accac5e674",
            "2052b3cef6d04e72aa1f3bdfb4d3687d",
            "a1fc4d5e75804a4f88889584f9ccdf9d"
          ]
        },
        "outputId": "33555ff9-6e60-45d3-a8d4-4b52722ce701"
      },
      "source": [
        "#extracting the question embeddings of train data\n",
        "from tqdm.notebook import tqdm\n",
        "tqdm.pandas()\n",
        "pos_train['short_question_embed']=pos_train.short_question.progress_apply(lambda x: extract_question_embed(x))"
      ],
      "execution_count": null,
      "outputs": [
        {
          "output_type": "stream",
          "text": [
            "/usr/local/lib/python3.7/dist-packages/tqdm/std.py:658: FutureWarning: The Panel class is removed from pandas. Accessing it from the top-level namespace will also be removed in the next version\n",
            "  from pandas import Panel\n"
          ],
          "name": "stderr"
        },
        {
          "output_type": "display_data",
          "data": {
            "application/vnd.jupyter.widget-view+json": {
              "model_id": "a0cdd37daeb34bd7ac71a89db77a920b",
              "version_minor": 0,
              "version_major": 2
            },
            "text/plain": [
              "HBox(children=(FloatProgress(value=0.0, max=23802.0), HTML(value='')))"
            ]
          },
          "metadata": {
            "tags": []
          }
        },
        {
          "output_type": "stream",
          "text": [
            "\n"
          ],
          "name": "stdout"
        }
      ]
    },
    {
      "cell_type": "code",
      "metadata": {
        "id": "6dO2s9tixRKg",
        "colab": {
          "base_uri": "https://localhost:8080/",
          "height": 67,
          "referenced_widgets": [
            "901ff0cc920248599e03ad9b35ad2002",
            "6f7f3daa8300476aa83b601b86eb5de7",
            "ced1732ac2d24ea69b43d20742f512d7",
            "acb0d5c66d3c423782cea845874a47ec",
            "2f962f4e54224cb0b1fd6165ccbedd2d",
            "9c5c7948bcd24d06b3f854a210e28c60",
            "abcb31001e44450585149e79699e5054",
            "6491bee1b2094ed181558da404997e6d"
          ]
        },
        "outputId": "9e48df96-d834-43d5-ddb7-32745c467c3f"
      },
      "source": [
        "#extracting the question embeddings of validation data\n",
        "pos_validation['short_question_embed']=pos_validation.short_question.progress_apply(lambda x: extract_question_embed(x))"
      ],
      "execution_count": null,
      "outputs": [
        {
          "output_type": "display_data",
          "data": {
            "application/vnd.jupyter.widget-view+json": {
              "model_id": "901ff0cc920248599e03ad9b35ad2002",
              "version_minor": 0,
              "version_major": 2
            },
            "text/plain": [
              "HBox(children=(FloatProgress(value=0.0, max=5950.0), HTML(value='')))"
            ]
          },
          "metadata": {
            "tags": []
          }
        },
        {
          "output_type": "stream",
          "text": [
            "\n"
          ],
          "name": "stdout"
        }
      ]
    },
    {
      "cell_type": "code",
      "metadata": {
        "id": "3sf5bV7cgqUv",
        "colab": {
          "base_uri": "https://localhost:8080/",
          "height": 67,
          "referenced_widgets": [
            "786c891972b54c0f9988f75d07e9d080",
            "e99808138a9e42e98c555a366be2ace0",
            "40ba5ab4a8514fd0ae429afdca9a7163",
            "5dccdba38784425983a6ce60728bb44d",
            "5aa5698edab34c87812ee56d73ceb44f",
            "f90e64ce585f460bbb33a025851d570a",
            "3814980e9e214f5b91bec07ba582a7bf",
            "307fc061bd7e4645b65859f882d2b74f"
          ]
        },
        "outputId": "7bb0a265-c928-4e1c-b145-db3964b9b07e"
      },
      "source": [
        "#extracting the answer embeddings of train data\n",
        "pos_train['short_answer_embed']=pos_train.short_answer.progress_apply(lambda x: extract_answer_embed(x))"
      ],
      "execution_count": null,
      "outputs": [
        {
          "output_type": "display_data",
          "data": {
            "application/vnd.jupyter.widget-view+json": {
              "model_id": "786c891972b54c0f9988f75d07e9d080",
              "version_minor": 0,
              "version_major": 2
            },
            "text/plain": [
              "HBox(children=(FloatProgress(value=0.0, max=23802.0), HTML(value='')))"
            ]
          },
          "metadata": {
            "tags": []
          }
        },
        {
          "output_type": "stream",
          "text": [
            "\n"
          ],
          "name": "stdout"
        }
      ]
    },
    {
      "cell_type": "code",
      "metadata": {
        "id": "Lq9FUXSMxbhO",
        "colab": {
          "base_uri": "https://localhost:8080/",
          "height": 67,
          "referenced_widgets": [
            "60fa1c1f62104476b7f5a329857a553d",
            "7e69cfe48a824765b0e0474349e9c1fe",
            "ed78347081d24b89b9e62b707c66fe00",
            "0e18a336f92f475abdc98d8627ef5ed2",
            "57c36d29adf7480fade2dfde5f64bd5e",
            "c513d0b779cc49d786efaf63969b897f",
            "d69d602f9f7247a5a229f0290238fe01",
            "ea345a9c50d1461a965d6cb96d1a1e1c"
          ]
        },
        "outputId": "e3f7a81b-14f9-44ec-e822-6f913ef00446"
      },
      "source": [
        "#extracting the answer embeddings of validation data\n",
        "pos_validation['short_answer_embed']=pos_validation.short_answer.progress_apply(lambda x: extract_answer_embed(x))"
      ],
      "execution_count": null,
      "outputs": [
        {
          "output_type": "display_data",
          "data": {
            "application/vnd.jupyter.widget-view+json": {
              "model_id": "60fa1c1f62104476b7f5a329857a553d",
              "version_minor": 0,
              "version_major": 2
            },
            "text/plain": [
              "HBox(children=(FloatProgress(value=0.0, max=5950.0), HTML(value='')))"
            ]
          },
          "metadata": {
            "tags": []
          }
        },
        {
          "output_type": "stream",
          "text": [
            "\n"
          ],
          "name": "stdout"
        }
      ]
    },
    {
      "cell_type": "code",
      "metadata": {
        "id": "OEoqTKxsYgmW"
      },
      "source": [
        "#converting embeddings from tensors to numpy arrays\n",
        "pos_train['short_answer_embed_numpy']=pos_train.short_answer_embed.apply(lambda x: x.numpy() )\n",
        "pos_train['short_question_embed_numpy']=pos_train.short_question_embed.apply(lambda x: x.numpy())"
      ],
      "execution_count": null,
      "outputs": []
    },
    {
      "cell_type": "code",
      "metadata": {
        "id": "55MlY14MxifI"
      },
      "source": [
        "#converting embeddings from tensors to numpy arrays\n",
        "pos_validation['short_answer_embed_numpy']=pos_validation.short_answer_embed.apply(lambda x: x.numpy() )\n",
        "pos_validation['short_question_embed_numpy']=pos_validation.short_question_embed.apply(lambda x: x.numpy())"
      ],
      "execution_count": null,
      "outputs": []
    },
    {
      "cell_type": "code",
      "metadata": {
        "id": "GO-WVdYXvrHP"
      },
      "source": [
        "#Saving train question and answer embeddings to disk\n",
        "pos_train.drop(['short_answer_embed','short_question_embed'],axis=1).to_csv('re_train_embeds.csv',index=False)"
      ],
      "execution_count": null,
      "outputs": []
    },
    {
      "cell_type": "code",
      "metadata": {
        "id": "f1lpve5axp-m"
      },
      "source": [
        "#saving validation question and answer embeddings to disk\n",
        "pos_validation.drop(['short_answer_embed','short_question_embed'],axis=1).to_csv('re_validation_embeds.csv',index=False)"
      ],
      "execution_count": null,
      "outputs": []
    },
    {
      "cell_type": "markdown",
      "metadata": {
        "id": "tkTDGZ-h-GA3"
      },
      "source": [
        "**Conclusion**"
      ]
    },
    {
      "cell_type": "markdown",
      "metadata": {
        "id": "OLaykKAt-JoY"
      },
      "source": [
        "In this notebook,we have finetuned a pre-trained biobert model to extract embeddings for medical question and answers. In the next notebook we will use these embeddings to retrieve similar question and answer to answer the question asked by a patient."
      ]
    },
    {
      "cell_type": "code",
      "metadata": {
        "id": "YlqBDA5A-cXf"
      },
      "source": [
        ""
      ],
      "execution_count": null,
      "outputs": []
    }
  ]
}